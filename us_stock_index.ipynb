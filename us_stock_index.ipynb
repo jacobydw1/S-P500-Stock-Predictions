{
 "cells": [
  {
   "cell_type": "markdown",
   "metadata": {},
   "source": [
    "# Stock Index"
   ]
  },
  {
   "cell_type": "markdown",
   "metadata": {},
   "source": [
    "We will predicting the stock price of the S&P 500 using historic prices from 2007 to 2018"
   ]
  },
  {
   "cell_type": "markdown",
   "metadata": {},
   "source": [
    "The Data Consist of 4 stock indices:\n",
    ">\n",
    "*(S&P500)[https://en.wikipedia.org/wiki/S%26P_500_Index]\n",
    "\n",
    "*(JPX400)[https://www.jpx.co.jp/english/markets/indices/jpx-nikkei400]\n",
    "\n",
    "*(SSEC)[https://en.wikipedia.org/wiki/SSE_Composite_Index]\n",
    "\n",
    "*(KOSPI)[https://en.wikipedia.org/wiki/KOSPI]\n",
    "\n",
    "\n",
    "This source of the data is from kaggle.com(https://www.kaggle.com/pyioneer/stock-index)\n",
    "    "
   ]
  },
  {
   "cell_type": "code",
   "execution_count": 1,
   "metadata": {},
   "outputs": [],
   "source": [
    "import pandas as pd\n",
    "import numpy as np\n",
    "import matplotlib.pyplot as plt\n",
    "import seaborn as sns\n",
    "import sklearn"
   ]
  },
  {
   "cell_type": "code",
   "execution_count": 2,
   "metadata": {},
   "outputs": [
    {
     "data": {
      "text/html": [
       "<div>\n",
       "<style scoped>\n",
       "    .dataframe tbody tr th:only-of-type {\n",
       "        vertical-align: middle;\n",
       "    }\n",
       "\n",
       "    .dataframe tbody tr th {\n",
       "        vertical-align: top;\n",
       "    }\n",
       "\n",
       "    .dataframe thead th {\n",
       "        text-align: right;\n",
       "    }\n",
       "</style>\n",
       "<table border=\"1\" class=\"dataframe\">\n",
       "  <thead>\n",
       "    <tr style=\"text-align: right;\">\n",
       "      <th></th>\n",
       "      <th>DATE</th>\n",
       "      <th>S&amp;P500</th>\n",
       "      <th>JPX400</th>\n",
       "      <th>SSEC</th>\n",
       "      <th>KOSPI</th>\n",
       "    </tr>\n",
       "  </thead>\n",
       "  <tbody>\n",
       "    <tr>\n",
       "      <th>0</th>\n",
       "      <td>2007-01-01</td>\n",
       "      <td>NaN</td>\n",
       "      <td>NaN</td>\n",
       "      <td>NaN</td>\n",
       "      <td>1434.46</td>\n",
       "    </tr>\n",
       "    <tr>\n",
       "      <th>1</th>\n",
       "      <td>2007-01-02</td>\n",
       "      <td>NaN</td>\n",
       "      <td>NaN</td>\n",
       "      <td>NaN</td>\n",
       "      <td>1435.26</td>\n",
       "    </tr>\n",
       "    <tr>\n",
       "      <th>2</th>\n",
       "      <td>2007-01-03</td>\n",
       "      <td>1416.60</td>\n",
       "      <td>NaN</td>\n",
       "      <td>NaN</td>\n",
       "      <td>1409.35</td>\n",
       "    </tr>\n",
       "    <tr>\n",
       "      <th>3</th>\n",
       "      <td>2007-01-04</td>\n",
       "      <td>1418.34</td>\n",
       "      <td>14545.50</td>\n",
       "      <td>2715.72</td>\n",
       "      <td>1397.29</td>\n",
       "    </tr>\n",
       "    <tr>\n",
       "      <th>4</th>\n",
       "      <td>2007-01-05</td>\n",
       "      <td>1409.71</td>\n",
       "      <td>14326.44</td>\n",
       "      <td>2641.33</td>\n",
       "      <td>1385.76</td>\n",
       "    </tr>\n",
       "  </tbody>\n",
       "</table>\n",
       "</div>"
      ],
      "text/plain": [
       "         DATE   S&P500    JPX400     SSEC    KOSPI\n",
       "0  2007-01-01      NaN       NaN      NaN  1434.46\n",
       "1  2007-01-02      NaN       NaN      NaN  1435.26\n",
       "2  2007-01-03  1416.60       NaN      NaN  1409.35\n",
       "3  2007-01-04  1418.34  14545.50  2715.72  1397.29\n",
       "4  2007-01-05  1409.71  14326.44  2641.33  1385.76"
      ]
     },
     "execution_count": 2,
     "metadata": {},
     "output_type": "execute_result"
    }
   ],
   "source": [
    "df = pd.read_csv(\"stock_exchange_index.csv\")\n",
    "df.head()"
   ]
  },
  {
   "cell_type": "code",
   "execution_count": 3,
   "metadata": {},
   "outputs": [],
   "source": [
    "df[\"DATE\"] = pd.to_datetime(df.DATE)"
   ]
  },
  {
   "cell_type": "code",
   "execution_count": 4,
   "metadata": {},
   "outputs": [
    {
     "name": "stdout",
     "output_type": "stream",
     "text": [
      "<class 'pandas.core.frame.DataFrame'>\n",
      "RangeIndex: 4383 entries, 0 to 4382\n",
      "Data columns (total 5 columns):\n",
      " #   Column  Non-Null Count  Dtype         \n",
      "---  ------  --------------  -----         \n",
      " 0   DATE    4383 non-null   datetime64[ns]\n",
      " 1   S&P500  3020 non-null   float64       \n",
      " 2   JPX400  2941 non-null   float64       \n",
      " 3   SSEC    2920 non-null   float64       \n",
      " 4   KOSPI   4383 non-null   float64       \n",
      "dtypes: datetime64[ns](1), float64(4)\n",
      "memory usage: 171.3 KB\n"
     ]
    }
   ],
   "source": [
    "df.info()"
   ]
  },
  {
   "cell_type": "markdown",
   "metadata": {},
   "source": [
    "## Exploratory Data Analysis"
   ]
  },
  {
   "cell_type": "code",
   "execution_count": 5,
   "metadata": {},
   "outputs": [
    {
     "name": "stdout",
     "output_type": "stream",
     "text": [
      "<class 'pandas.core.frame.DataFrame'>\n",
      "RangeIndex: 4383 entries, 0 to 4382\n",
      "Data columns (total 5 columns):\n",
      " #   Column  Non-Null Count  Dtype         \n",
      "---  ------  --------------  -----         \n",
      " 0   DATE    4383 non-null   datetime64[ns]\n",
      " 1   S&P500  3020 non-null   float64       \n",
      " 2   JPX400  2941 non-null   float64       \n",
      " 3   SSEC    2920 non-null   float64       \n",
      " 4   KOSPI   4383 non-null   float64       \n",
      "dtypes: datetime64[ns](1), float64(4)\n",
      "memory usage: 171.3 KB\n"
     ]
    }
   ],
   "source": [
    "df.info()"
   ]
  },
  {
   "cell_type": "code",
   "execution_count": 6,
   "metadata": {},
   "outputs": [
    {
     "data": {
      "text/html": [
       "<div>\n",
       "<style scoped>\n",
       "    .dataframe tbody tr th:only-of-type {\n",
       "        vertical-align: middle;\n",
       "    }\n",
       "\n",
       "    .dataframe tbody tr th {\n",
       "        vertical-align: top;\n",
       "    }\n",
       "\n",
       "    .dataframe thead th {\n",
       "        text-align: right;\n",
       "    }\n",
       "</style>\n",
       "<table border=\"1\" class=\"dataframe\">\n",
       "  <thead>\n",
       "    <tr style=\"text-align: right;\">\n",
       "      <th></th>\n",
       "      <th>S&amp;P500</th>\n",
       "      <th>JPX400</th>\n",
       "      <th>SSEC</th>\n",
       "      <th>KOSPI</th>\n",
       "    </tr>\n",
       "  </thead>\n",
       "  <tbody>\n",
       "    <tr>\n",
       "      <th>count</th>\n",
       "      <td>3020.000000</td>\n",
       "      <td>2941.000000</td>\n",
       "      <td>2920.000000</td>\n",
       "      <td>4383.000000</td>\n",
       "    </tr>\n",
       "    <tr>\n",
       "      <th>mean</th>\n",
       "      <td>1696.062722</td>\n",
       "      <td>11042.823968</td>\n",
       "      <td>2925.573325</td>\n",
       "      <td>1911.190801</td>\n",
       "    </tr>\n",
       "    <tr>\n",
       "      <th>std</th>\n",
       "      <td>544.576517</td>\n",
       "      <td>3058.797292</td>\n",
       "      <td>759.552464</td>\n",
       "      <td>296.553993</td>\n",
       "    </tr>\n",
       "    <tr>\n",
       "      <th>min</th>\n",
       "      <td>676.530000</td>\n",
       "      <td>6014.220000</td>\n",
       "      <td>1706.700000</td>\n",
       "      <td>938.750000</td>\n",
       "    </tr>\n",
       "    <tr>\n",
       "      <th>25%</th>\n",
       "      <td>1281.907500</td>\n",
       "      <td>7839.700000</td>\n",
       "      <td>2331.805000</td>\n",
       "      <td>1770.980000</td>\n",
       "    </tr>\n",
       "    <tr>\n",
       "      <th>50%</th>\n",
       "      <td>1525.410000</td>\n",
       "      <td>11306.620000</td>\n",
       "      <td>2863.390000</td>\n",
       "      <td>1957.500000</td>\n",
       "    </tr>\n",
       "    <tr>\n",
       "      <th>75%</th>\n",
       "      <td>2087.842500</td>\n",
       "      <td>13926.950000</td>\n",
       "      <td>3235.315000</td>\n",
       "      <td>2043.690000</td>\n",
       "    </tr>\n",
       "    <tr>\n",
       "      <th>max</th>\n",
       "      <td>2930.750000</td>\n",
       "      <td>16937.630000</td>\n",
       "      <td>6092.060000</td>\n",
       "      <td>2598.190000</td>\n",
       "    </tr>\n",
       "  </tbody>\n",
       "</table>\n",
       "</div>"
      ],
      "text/plain": [
       "            S&P500        JPX400         SSEC        KOSPI\n",
       "count  3020.000000   2941.000000  2920.000000  4383.000000\n",
       "mean   1696.062722  11042.823968  2925.573325  1911.190801\n",
       "std     544.576517   3058.797292   759.552464   296.553993\n",
       "min     676.530000   6014.220000  1706.700000   938.750000\n",
       "25%    1281.907500   7839.700000  2331.805000  1770.980000\n",
       "50%    1525.410000  11306.620000  2863.390000  1957.500000\n",
       "75%    2087.842500  13926.950000  3235.315000  2043.690000\n",
       "max    2930.750000  16937.630000  6092.060000  2598.190000"
      ]
     },
     "execution_count": 6,
     "metadata": {},
     "output_type": "execute_result"
    }
   ],
   "source": [
    "df.describe()"
   ]
  },
  {
   "cell_type": "code",
   "execution_count": 7,
   "metadata": {},
   "outputs": [
    {
     "data": {
      "image/png": "[encoded data removed]",
      "text/plain": [
       "<Figure size 1440x1080 with 4 Axes>"
      ]
     },
     "metadata": {
      "needs_background": "light"
     },
     "output_type": "display_data"
    }
   ],
   "source": [
    "%matplotlib inline\n",
    "df.hist(bins=50, figsize=(20, 15))\n",
    "plt.savefig(\"stock_hist.png\")"
   ]
  },
  {
   "cell_type": "code",
   "execution_count": 8,
   "metadata": {},
   "outputs": [
    {
     "name": "stdout",
     "output_type": "stream",
     "text": [
      "<class 'pandas.core.frame.DataFrame'>\n",
      "Int64Index: 3019 entries, 1 to 3019\n",
      "Data columns (total 5 columns):\n",
      " #   Column  Non-Null Count  Dtype         \n",
      "---  ------  --------------  -----         \n",
      " 0   DATE    3019 non-null   datetime64[ns]\n",
      " 1   S&P500  3019 non-null   float64       \n",
      " 2   JPX400  3019 non-null   float64       \n",
      " 3   SSEC    3019 non-null   float64       \n",
      " 4   KOSPI   3019 non-null   float64       \n",
      "dtypes: datetime64[ns](1), float64(4)\n",
      "memory usage: 141.5 KB\n"
     ]
    }
   ],
   "source": [
    "df.dropna(subset=[\"S&P500\"], inplace=True)\n",
    "df.fillna(method=\"ffill\", inplace=True)\n",
    "df.reset_index(drop=True, inplace=True)\n",
    "df.drop(df.index[[0]], inplace=True)\n",
    "df.head()\n",
    "\n",
    "df.info()"
   ]
  },
  {
   "cell_type": "code",
   "execution_count": 9,
   "metadata": {},
   "outputs": [],
   "source": [
    "def split_train_test(data, test_ratio):\n",
    "    shuffled_indices = np.random.permutation(len(data))\n",
    "    test_set_size = int(len(data) * test_ratio)\n",
    "    test_indices = shuffled_indices[:test_set_size]\n",
    "    train_indices = shuffled_indices[test_set_size:]\n",
    "    return data.iloc[train_indices], data.iloc[test_indices]\n",
    "\n",
    "train_set, test_set = split_train_test(df, 0.2)"
   ]
  },
  {
   "cell_type": "code",
   "execution_count": 10,
   "metadata": {},
   "outputs": [
    {
     "data": {
      "text/plain": [
       "((2416, 5), (603, 5))"
      ]
     },
     "execution_count": 10,
     "metadata": {},
     "output_type": "execute_result"
    }
   ],
   "source": [
    "train_set.shape, test_set.shape"
   ]
  },
  {
   "cell_type": "code",
   "execution_count": 11,
   "metadata": {},
   "outputs": [],
   "source": [
    "from zlib import crc32\n",
    "\n",
    "#check the test set to ensure it remains constant even if data is refreshed\n",
    "def test_set_check(identifier, test_ratio):\n",
    "    return crc32(np.int64(identifier)) & 0xffffffff < test_ratio * 2**32\n",
    "\n",
    "\n",
    "def split_train_test_by_id(data, test_ratio, id_column):\n",
    "    ids = data[id_column]\n",
    "    in_test_set = ids.apply(lambda id_: test_set_check(id_, test_ratio))\n",
    "    return data.loc[~in_test_set], data.loc[in_test_set]"
   ]
  },
  {
   "cell_type": "code",
   "execution_count": 12,
   "metadata": {},
   "outputs": [],
   "source": [
    "df_with_id = df.reset_index()\n",
    "train_set, test_set = split_train_test_by_id(df_with_id, 0.2, \"index\")"
   ]
  },
  {
   "cell_type": "code",
   "execution_count": 13,
   "metadata": {},
   "outputs": [
    {
     "data": {
      "image/png": "[encoded data removed]",
      "text/plain": [
       "<Figure size 1080x1080 with 2 Axes>"
      ]
     },
     "metadata": {
      "needs_background": "light"
     },
     "output_type": "display_data"
    }
   ],
   "source": [
    "corr = df.corr()\n",
    "plt.figure(figsize=(15, 15))\n",
    "sns.heatmap(corr, annot=True);"
   ]
  },
  {
   "cell_type": "code",
   "execution_count": 14,
   "metadata": {},
   "outputs": [
    {
     "data": {
      "image/png": "[encoded data removed]",
      "text/plain": [
       "<Figure size 432x288 with 1 Axes>"
      ]
     },
     "metadata": {
      "needs_background": "light"
     },
     "output_type": "display_data"
    }
   ],
   "source": [
    "df[\"KOSPI_strat\"] = pd.cut(df[\"KOSPI\"], \n",
    "                     bins=[0, 1000, 1250, 1500, 1750, 2000, 2250, 2500, np.inf],\n",
    "                     labels=[1, 2, 3, 4, 5, 6, 7, 8])\n",
    "\n",
    "df[\"KOSPI_strat\"].hist();"
   ]
  },
  {
   "cell_type": "code",
   "execution_count": 16,
   "metadata": {},
   "outputs": [],
   "source": [
    "from sklearn.model_selection import StratifiedShuffleSplit\n",
    "\n",
    "split = StratifiedShuffleSplit(n_splits=1, test_size=0.2, random_state=42)\n",
    "for train_index, test_index in split.split(df, df[\"KOSPI_strat\"]):\n",
    "    strat_train_set = df.iloc[train_index]\n",
    "    strat_test_set = df.iloc[test_index]"
   ]
  },
  {
   "cell_type": "code",
   "execution_count": 17,
   "metadata": {},
   "outputs": [
    {
     "data": {
      "text/plain": [
       "5    0.395695\n",
       "6    0.248344\n",
       "4    0.139073\n",
       "7    0.104305\n",
       "3    0.059603\n",
       "2    0.036424\n",
       "8    0.014901\n",
       "1    0.001656\n",
       "Name: KOSPI_strat, dtype: float64"
      ]
     },
     "execution_count": 17,
     "metadata": {},
     "output_type": "execute_result"
    }
   ],
   "source": [
    "strat_test_set[\"KOSPI_strat\"].value_counts()/ len(strat_test_set)"
   ]
  },
  {
   "cell_type": "code",
   "execution_count": 18,
   "metadata": {},
   "outputs": [
    {
     "name": "stderr",
     "output_type": "stream",
     "text": [
      "/Users/jacobywilkerson/.local/lib/python3.8/site-packages/pandas/core/frame.py:3990: SettingWithCopyWarning: \n",
      "A value is trying to be set on a copy of a slice from a DataFrame\n",
      "\n",
      "See the caveats in the documentation: https://pandas.pydata.org/pandas-docs/stable/user_guide/indexing.html#returning-a-view-versus-a-copy\n",
      "  return super().drop(\n"
     ]
    }
   ],
   "source": [
    "for set_ in (strat_train_set, strat_test_set):\n",
    "    set_.drop(\"KOSPI_strat\", axis=1, inplace=True)"
   ]
  },
  {
   "cell_type": "code",
   "execution_count": 19,
   "metadata": {},
   "outputs": [],
   "source": [
    "\n",
    "# df = df[df['S&P500'].notna()]\n",
    "# df.fillna(method=\"ffill\", inplace=True)\n",
    "# df.reset_index(drop=True, inplace=True)\n",
    "# df.drop(df.index[[0]], inplace=True)\n",
    "# df.head()\n",
    "\n"
   ]
  },
  {
   "cell_type": "code",
   "execution_count": 20,
   "metadata": {},
   "outputs": [
    {
     "data": {
      "image/png": "[encoded data removed]",
      "text/plain": [
       "<Figure size 432x288 with 1 Axes>"
      ]
     },
     "metadata": {
      "needs_background": "light"
     },
     "output_type": "display_data"
    }
   ],
   "source": [
    "df.plot(kind=\"scatter\", x=\"JPX400\", y=\"S&P500\");"
   ]
  },
  {
   "cell_type": "code",
   "execution_count": 21,
   "metadata": {},
   "outputs": [
    {
     "data": {
      "image/png": "[encoded data removed]",
      "text/plain": [
       "<Figure size 432x288 with 1 Axes>"
      ]
     },
     "metadata": {
      "needs_background": "light"
     },
     "output_type": "display_data"
    }
   ],
   "source": [
    "df.plot(kind=\"scatter\", x=\"JPX400\", y=\"S&P500\", alpha=0.1);"
   ]
  },
  {
   "cell_type": "code",
   "execution_count": 22,
   "metadata": {},
   "outputs": [
    {
     "data": {
      "text/plain": [
       "S&P500    1.000000\n",
       "JPX400    0.810583\n",
       "KOSPI     0.807993\n",
       "SSEC      0.181670\n",
       "Name: S&P500, dtype: float64"
      ]
     },
     "execution_count": 22,
     "metadata": {},
     "output_type": "execute_result"
    }
   ],
   "source": [
    "corr_matrix = df.corr()\n",
    "corr_matrix[\"S&P500\"].sort_values(ascending=False)"
   ]
  },
  {
   "cell_type": "code",
   "execution_count": 23,
   "metadata": {},
   "outputs": [
    {
     "data": {
      "image/png": "[encoded data removed]",
      "text/plain": [
       "<Figure size 864x576 with 16 Axes>"
      ]
     },
     "metadata": {
      "needs_background": "light"
     },
     "output_type": "display_data"
    }
   ],
   "source": [
    "from pandas.plotting import scatter_matrix\n",
    "\n",
    "\n",
    "attributes=[\"S&P500\", \"JPX400\", \"KOSPI\", \"SSEC\"]\n",
    "\n",
    "scatter_matrix(df[attributes], figsize=(12, 8));\n",
    "plt.savefig(\"scatter_matrix.png\")"
   ]
  },
  {
   "cell_type": "markdown",
   "metadata": {},
   "source": [
    "## Prepare Data For Machine Learning"
   ]
  },
  {
   "cell_type": "code",
   "execution_count": 24,
   "metadata": {},
   "outputs": [],
   "source": [
    "df_train = strat_train_set.drop(\"S&P500\", axis=1)\n",
    "df_train_labels = strat_train_set[\"S&P500\"].copy()"
   ]
  },
  {
   "cell_type": "code",
   "execution_count": 25,
   "metadata": {},
   "outputs": [],
   "source": [
    "from sklearn.preprocessing import StandardScaler\n",
    "\n",
    "df_num = df_train.drop(\"DATE\", axis=1)\n",
    "\n",
    "scaler = StandardScaler()\n",
    "df_num_scaler = scaler.fit_transform(df_num)"
   ]
  },
  {
   "cell_type": "code",
   "execution_count": 27,
   "metadata": {},
   "outputs": [],
   "source": [
    "from sklearn.compose import ColumnTransformer\n",
    "\n",
    "num_attribs = list(df_num)\n",
    "\n",
    "full_pipeline = ColumnTransformer([\n",
    "    (\"num\", StandardScaler(), num_attribs)\n",
    "])\n",
    "\n",
    "\n",
    "df_train_prepared = full_pipeline.fit_transform(df_train)"
   ]
  },
  {
   "cell_type": "markdown",
   "metadata": {},
   "source": [
    "## Select and Train Model"
   ]
  },
  {
   "cell_type": "code",
   "execution_count": 29,
   "metadata": {},
   "outputs": [
    {
     "data": {
      "text/plain": [
       "LinearRegression(copy_X=True, fit_intercept=True, n_jobs=None, normalize=False)"
      ]
     },
     "execution_count": 29,
     "metadata": {},
     "output_type": "execute_result"
    }
   ],
   "source": [
    "from sklearn.linear_model import LinearRegression\n",
    "\n",
    "linreg = LinearRegression()\n",
    "\n",
    "linreg.fit(df_train_prepared, df_train_labels)"
   ]
  },
  {
   "cell_type": "code",
   "execution_count": 30,
   "metadata": {},
   "outputs": [
    {
     "name": "stdout",
     "output_type": "stream",
     "text": [
      "Predictions: [1353.74407172 1937.89659309 1796.36870747 1257.53856937  787.66621406]\n"
     ]
    }
   ],
   "source": [
    "some_data = df_train.iloc[:5]\n",
    "some_data_labels = df_train_labels.iloc[:5]\n",
    "some_data_prepared = full_pipeline.transform(some_data)\n",
    "\n",
    "print(\"Predictions:\", linreg.predict(some_data_prepared))"
   ]
  },
  {
   "cell_type": "code",
   "execution_count": 31,
   "metadata": {},
   "outputs": [
    {
     "name": "stdout",
     "output_type": "stream",
     "text": [
      "Actual Labels: [1402.8, 1890.9, 1455.54, 1213.4, 869.6]\n"
     ]
    }
   ],
   "source": [
    "print(\"Actual Labels:\", list(some_data_labels))"
   ]
  },
  {
   "cell_type": "code",
   "execution_count": 35,
   "metadata": {},
   "outputs": [
    {
     "data": {
      "text/plain": [
       "157.37074104471168"
      ]
     },
     "execution_count": 35,
     "metadata": {},
     "output_type": "execute_result"
    }
   ],
   "source": [
    "from sklearn.metrics import mean_squared_error\n",
    "\n",
    "sp500_predictions = linreg.predict(df_train_prepared)\n",
    "lin_mse = mean_squared_error(df_train_labels, sp500_predictions)\n",
    "lin_rmse = np.sqrt(lin_mse)\n",
    "\n",
    "lin_rmse"
   ]
  },
  {
   "cell_type": "code",
   "execution_count": 36,
   "metadata": {},
   "outputs": [
    {
     "data": {
      "text/plain": [
       "0.9238080115673531"
      ]
     },
     "execution_count": 36,
     "metadata": {},
     "output_type": "execute_result"
    }
   ],
   "source": [
    "from sklearn.tree import DecisionTreeRegressor\n",
    "\n",
    "tree_reg = DecisionTreeRegressor()\n",
    "tree_reg.fit(df_train_prepared, df_train_labels)\n",
    "\n",
    "sp500_predictions = tree_reg.predict(df_train_prepared)\n",
    "tree_mse = mean_squared_error(df_train_labels, sp500_predictions)\n",
    "tree_rmse = np.sqrt(tree_mse)\n",
    "\n",
    "tree_rmse\n",
    "\n"
   ]
  },
  {
   "cell_type": "code",
   "execution_count": 37,
   "metadata": {},
   "outputs": [],
   "source": [
    "from sklearn.model_selection import cross_val_score\n",
    "\n",
    "scores = cross_val_score(tree_reg, df_train_prepared, df_train_labels,\n",
    "                         scoring=\"neg_mean_squared_error\", cv=10)\n",
    "\n",
    "tree_rmse_scores = np.sqrt(-scores)"
   ]
  },
  {
   "cell_type": "code",
   "execution_count": 38,
   "metadata": {},
   "outputs": [
    {
     "name": "stdout",
     "output_type": "stream",
     "text": [
      "Scores: [53.17037392 46.86084424 73.26535272 55.61435756 57.73026066 60.4784679\n",
      " 72.74657253 38.56962208 59.53290689 55.47571261]\n",
      "Mean: 57.34444711161409\n",
      "Standard Deviation: 9.958761204262379\n"
     ]
    }
   ],
   "source": [
    "def display_scores(scores):\n",
    "    \n",
    "    print(\"Scores:\", scores)\n",
    "    print(\"Mean:\", scores.mean())\n",
    "    print(\"Standard Deviation:\", scores.std())\n",
    "    \n",
    "display_scores(tree_rmse_scores)"
   ]
  },
  {
   "cell_type": "code",
   "execution_count": 40,
   "metadata": {},
   "outputs": [
    {
     "data": {
      "text/plain": [
       "16.21777972757668"
      ]
     },
     "execution_count": 40,
     "metadata": {},
     "output_type": "execute_result"
    }
   ],
   "source": [
    "from sklearn.ensemble import RandomForestRegressor\n",
    "\n",
    "forest_reg = RandomForestRegressor()\n",
    "forest_reg.fit(df_train_prepared, df_train_labels)\n",
    "\n",
    "sp500_predictions = forest_reg.predict(df_train_prepared)\n",
    "forest_mse = mean_squared_error(df_train_labels, sp500_predictions)\n",
    "forest_rmse = np.sqrt(forest_mse)\n",
    "\n",
    "forest_rmse"
   ]
  },
  {
   "cell_type": "code",
   "execution_count": 41,
   "metadata": {},
   "outputs": [
    {
     "name": "stdout",
     "output_type": "stream",
     "text": [
      "Scores: [38.07922186 40.56504238 49.9405161  43.19767812 46.0569852  49.5376001\n",
      " 46.30546045 30.88691004 45.08402182 47.65380637]\n",
      "Mean: 43.730724244069236\n",
      "Standard Deviation: 5.556552787186738\n"
     ]
    }
   ],
   "source": [
    "forest_scores = cross_val_score(forest_reg, df_train_prepared, df_train_labels,\n",
    "                                scoring=\"neg_mean_squared_error\", cv=10)\n",
    "\n",
    "forest_rmse_scores = np.sqrt(-forest_scores)\n",
    "display_scores(forest_rmse_scores)"
   ]
  },
  {
   "cell_type": "code",
   "execution_count": 53,
   "metadata": {},
   "outputs": [
    {
     "data": {
      "text/plain": [
       "GridSearchCV(cv=5, error_score=nan,\n",
       "             estimator=RandomForestRegressor(bootstrap=True, ccp_alpha=0.0,\n",
       "                                             criterion='mse', max_depth=None,\n",
       "                                             max_features='auto',\n",
       "                                             max_leaf_nodes=None,\n",
       "                                             max_samples=None,\n",
       "                                             min_impurity_decrease=0.0,\n",
       "                                             min_impurity_split=None,\n",
       "                                             min_samples_leaf=1,\n",
       "                                             min_samples_split=2,\n",
       "                                             min_weight_fraction_leaf=0.0,\n",
       "                                             n_estimators=100, n_jobs=None,\n",
       "                                             oob_score=False, random_state=None,\n",
       "                                             verbose=0, warm_start=False),\n",
       "             iid='deprecated', n_jobs=None,\n",
       "             param_grid=[{'max_features': [0.1, 0.15, 0.2, 0.25],\n",
       "                          'n_estimators': [50, 70, 90]},\n",
       "                         {'bootstrap': [False],\n",
       "                          'max_features': [0.1, 0.2, 0.3, 0.4],\n",
       "                          'n_estimators': [3, 10]}],\n",
       "             pre_dispatch='2*n_jobs', refit=True, return_train_score=True,\n",
       "             scoring='neg_mean_squared_error', verbose=0)"
      ]
     },
     "execution_count": 53,
     "metadata": {},
     "output_type": "execute_result"
    }
   ],
   "source": [
    "from sklearn.model_selection import GridSearchCV\n",
    "\n",
    "param_grid = [\n",
    "    {'n_estimators':[50 , 70  , 90], 'max_features':[0.1 , 0.15, 0.20, 0.25]},\n",
    "    {'bootstrap': [False], 'n_estimators': [3, 10], 'max_features': [0.1, 0.2, 0.3, 0.4]}\n",
    "]\n",
    "\n",
    "forest_reg = RandomForestRegressor()\n",
    "\n",
    "grid_search = GridSearchCV(forest_reg, param_grid, cv=5,\n",
    "                           scoring=\"neg_mean_squared_error\",\n",
    "                           return_train_score=True)\n",
    "\n",
    "grid_search.fit(df_train_prepared, df_train_labels)"
   ]
  },
  {
   "cell_type": "code",
   "execution_count": 54,
   "metadata": {},
   "outputs": [
    {
     "data": {
      "text/plain": [
       "{'max_features': 0.2, 'n_estimators': 90}"
      ]
     },
     "execution_count": 54,
     "metadata": {},
     "output_type": "execute_result"
    }
   ],
   "source": [
    "grid_search.best_params_"
   ]
  },
  {
   "cell_type": "code",
   "execution_count": 55,
   "metadata": {},
   "outputs": [
    {
     "data": {
      "text/plain": [
       "RandomForestRegressor(bootstrap=True, ccp_alpha=0.0, criterion='mse',\n",
       "                      max_depth=None, max_features=0.2, max_leaf_nodes=None,\n",
       "                      max_samples=None, min_impurity_decrease=0.0,\n",
       "                      min_impurity_split=None, min_samples_leaf=1,\n",
       "                      min_samples_split=2, min_weight_fraction_leaf=0.0,\n",
       "                      n_estimators=90, n_jobs=None, oob_score=False,\n",
       "                      random_state=None, verbose=0, warm_start=False)"
      ]
     },
     "execution_count": 55,
     "metadata": {},
     "output_type": "execute_result"
    }
   ],
   "source": [
    "grid_search.best_estimator_"
   ]
  },
  {
   "cell_type": "code",
   "execution_count": 57,
   "metadata": {},
   "outputs": [],
   "source": [
    "cv_res = grid_search.cv_results_"
   ]
  },
  {
   "cell_type": "code",
   "execution_count": 60,
   "metadata": {},
   "outputs": [
    {
     "name": "stdout",
     "output_type": "stream",
     "text": [
      "49.42490596833172 {'max_features': 0.1, 'n_estimators': 50}\n",
      "49.64432688420903 {'max_features': 0.1, 'n_estimators': 70}\n",
      "47.90349921456868 {'max_features': 0.1, 'n_estimators': 90}\n",
      "48.5390060426873 {'max_features': 0.15, 'n_estimators': 50}\n",
      "49.14851126453382 {'max_features': 0.15, 'n_estimators': 70}\n",
      "48.18721520410187 {'max_features': 0.15, 'n_estimators': 90}\n",
      "48.57562035057752 {'max_features': 0.2, 'n_estimators': 50}\n",
      "48.43940953920657 {'max_features': 0.2, 'n_estimators': 70}\n",
      "47.68537966907242 {'max_features': 0.2, 'n_estimators': 90}\n",
      "49.208102799917285 {'max_features': 0.25, 'n_estimators': 50}\n",
      "48.052426538447094 {'max_features': 0.25, 'n_estimators': 70}\n",
      "49.293902204085306 {'max_features': 0.25, 'n_estimators': 90}\n",
      "66.72646696955943 {'bootstrap': False, 'max_features': 0.1, 'n_estimators': 3}\n",
      "52.19059765385291 {'bootstrap': False, 'max_features': 0.1, 'n_estimators': 10}\n",
      "65.01657453664373 {'bootstrap': False, 'max_features': 0.2, 'n_estimators': 3}\n",
      "52.90627206052744 {'bootstrap': False, 'max_features': 0.2, 'n_estimators': 10}\n",
      "72.6856944301013 {'bootstrap': False, 'max_features': 0.3, 'n_estimators': 3}\n",
      "51.74839373128919 {'bootstrap': False, 'max_features': 0.3, 'n_estimators': 10}\n",
      "76.21589570163034 {'bootstrap': False, 'max_features': 0.4, 'n_estimators': 3}\n",
      "52.1040898167424 {'bootstrap': False, 'max_features': 0.4, 'n_estimators': 10}\n"
     ]
    }
   ],
   "source": [
    "for mean_score, params in zip(cv_res[\"mean_test_score\"], cv_res[\"params\"]):\n",
    "    print(np.sqrt(-mean_score), params)"
   ]
  },
  {
   "cell_type": "code",
   "execution_count": 62,
   "metadata": {},
   "outputs": [],
   "source": [
    "feature_importances = grid_search.best_estimator_.feature_importances_"
   ]
  },
  {
   "cell_type": "code",
   "execution_count": 64,
   "metadata": {},
   "outputs": [
    {
     "data": {
      "text/plain": [
       "[(0.4490926418731743, 'KOSPI'),\n",
       " (0.40515665715748556, 'JPX400'),\n",
       " (0.14575070096934004, 'SSEC')]"
      ]
     },
     "execution_count": 64,
     "metadata": {},
     "output_type": "execute_result"
    }
   ],
   "source": [
    "sorted(zip(feature_importances, num_attribs), reverse=True)"
   ]
  },
  {
   "cell_type": "code",
   "execution_count": 65,
   "metadata": {},
   "outputs": [],
   "source": [
    "## Evaluate System on Test Set"
   ]
  },
  {
   "cell_type": "code",
   "execution_count": 66,
   "metadata": {},
   "outputs": [],
   "source": [
    "final_model = grid_search.best_estimator_\n",
    "\n",
    "X_test = strat_test_set.drop(\"S&P500\", axis=1)\n",
    "y_test = strat_test_set[\"S&P500\"].copy()\n",
    "\n",
    "\n",
    "X_test_prepared = full_pipeline.transform(X_test)"
   ]
  },
  {
   "cell_type": "code",
   "execution_count": 67,
   "metadata": {},
   "outputs": [
    {
     "data": {
      "text/plain": [
       "52.218235097325405"
      ]
     },
     "execution_count": 67,
     "metadata": {},
     "output_type": "execute_result"
    }
   ],
   "source": [
    "final_predictions = final_model.predict(X_test_prepared)\n",
    "\n",
    "final_mse = mean_squared_error(y_test, final_predictions)\n",
    "final_rmse = np.sqrt(final_mse)\n",
    "\n",
    "final_rmse"
   ]
  },
  {
   "cell_type": "markdown",
   "metadata": {},
   "source": [
    "### Compute 95%confidence interval"
   ]
  },
  {
   "cell_type": "code",
   "execution_count": 69,
   "metadata": {},
   "outputs": [
    {
     "data": {
      "text/plain": [
       "array([41.03019609, 61.40041663])"
      ]
     },
     "execution_count": 69,
     "metadata": {},
     "output_type": "execute_result"
    }
   ],
   "source": [
    "from scipy import stats\n",
    "\n",
    "confidence = 0.95\n",
    "squared_errors = (final_predictions - y_test)**2\n",
    "np.sqrt(stats.t.interval(confidence, len(squared_errors) - 1,\n",
    "                         loc=squared_errors.mean(),\n",
    "                         scale=stats.sem(squared_errors)))\n"
   ]
  },
  {
   "cell_type": "markdown",
   "metadata": {},
   "source": [
    "### Save Model"
   ]
  },
  {
   "cell_type": "code",
   "execution_count": 70,
   "metadata": {},
   "outputs": [
    {
     "data": {
      "text/plain": [
       "['final_model.pkl']"
      ]
     },
     "execution_count": 70,
     "metadata": {},
     "output_type": "execute_result"
    }
   ],
   "source": [
    "import joblib\n",
    "\n",
    "joblib.dump(final_model, \"final_model.pkl\")"
   ]
  },
  {
   "cell_type": "markdown",
   "metadata": {},
   "source": [
    "## Extra Material"
   ]
  },
  {
   "cell_type": "code",
   "execution_count": 77,
   "metadata": {},
   "outputs": [
    {
     "data": {
      "text/plain": [
       "array([1402.4211, 1896.9961, 1453.3469, 1218.6232,  863.7263])"
      ]
     },
     "execution_count": 77,
     "metadata": {},
     "output_type": "execute_result"
    }
   ],
   "source": [
    "# A full pipeline with preparation and predictions\n",
    "from sklearn.pipeline import Pipeline\n",
    "\n",
    "\n",
    "full_pipeline_with_predictor = Pipeline([\n",
    "    (\"preparation\", full_pipeline),\n",
    "    (\"forest_reg\", RandomForestRegressor())\n",
    "    ])\n",
    "\n",
    "full_pipeline_with_predictor.fit(df_train, df_train_labels)\n",
    "full_pipeline_with_predictor.predict(some_data)"
   ]
  },
  {
   "cell_type": "code",
   "execution_count": 79,
   "metadata": {},
   "outputs": [
    {
     "name": "stdout",
     "output_type": "stream",
     "text": [
      "Fitting 5 folds for each of 50 candidates, totalling 250 fits\n",
      "[CV] C=10.0, kernel=linear ...........................................\n",
      "[CV] ............................ C=10.0, kernel=linear, total=   0.1s\n",
      "[CV] C=10.0, kernel=linear ...........................................\n"
     ]
    },
    {
     "name": "stderr",
     "output_type": "stream",
     "text": [
      "[Parallel(n_jobs=1)]: Using backend SequentialBackend with 1 concurrent workers.\n",
      "[Parallel(n_jobs=1)]: Done   1 out of   1 | elapsed:    0.1s remaining:    0.0s\n"
     ]
    },
    {
     "name": "stdout",
     "output_type": "stream",
     "text": [
      "[CV] ............................ C=10.0, kernel=linear, total=   0.1s\n",
      "[CV] C=10.0, kernel=linear ...........................................\n",
      "[CV] ............................ C=10.0, kernel=linear, total=   0.1s\n",
      "[CV] C=10.0, kernel=linear ...........................................\n",
      "[CV] ............................ C=10.0, kernel=linear, total=   0.1s\n",
      "[CV] C=10.0, kernel=linear ...........................................\n",
      "[CV] ............................ C=10.0, kernel=linear, total=   0.1s\n",
      "[CV] C=30.0, kernel=linear ...........................................\n",
      "[CV] ............................ C=30.0, kernel=linear, total=   0.1s\n",
      "[CV] C=30.0, kernel=linear ...........................................\n",
      "[CV] ............................ C=30.0, kernel=linear, total=   0.1s\n",
      "[CV] C=30.0, kernel=linear ...........................................\n",
      "[CV] ............................ C=30.0, kernel=linear, total=   0.1s\n",
      "[CV] C=30.0, kernel=linear ...........................................\n",
      "[CV] ............................ C=30.0, kernel=linear, total=   0.1s\n",
      "[CV] C=30.0, kernel=linear ...........................................\n",
      "[CV] ............................ C=30.0, kernel=linear, total=   0.2s\n",
      "[CV] C=100.0, kernel=linear ..........................................\n",
      "[CV] ........................... C=100.0, kernel=linear, total=   0.2s\n",
      "[CV] C=100.0, kernel=linear ..........................................\n",
      "[CV] ........................... C=100.0, kernel=linear, total=   0.2s\n",
      "[CV] C=100.0, kernel=linear ..........................................\n",
      "[CV] ........................... C=100.0, kernel=linear, total=   0.2s\n",
      "[CV] C=100.0, kernel=linear ..........................................\n",
      "[CV] ........................... C=100.0, kernel=linear, total=   0.2s\n",
      "[CV] C=100.0, kernel=linear ..........................................\n",
      "[CV] ........................... C=100.0, kernel=linear, total=   0.2s\n",
      "[CV] C=300.0, kernel=linear ..........................................\n",
      "[CV] ........................... C=300.0, kernel=linear, total=   0.2s\n",
      "[CV] C=300.0, kernel=linear ..........................................\n",
      "[CV] ........................... C=300.0, kernel=linear, total=   0.2s\n",
      "[CV] C=300.0, kernel=linear ..........................................\n",
      "[CV] ........................... C=300.0, kernel=linear, total=   0.2s\n",
      "[CV] C=300.0, kernel=linear ..........................................\n",
      "[CV] ........................... C=300.0, kernel=linear, total=   0.2s\n",
      "[CV] C=300.0, kernel=linear ..........................................\n",
      "[CV] ........................... C=300.0, kernel=linear, total=   0.3s\n",
      "[CV] C=1000.0, kernel=linear .........................................\n",
      "[CV] .......................... C=1000.0, kernel=linear, total=   0.4s\n",
      "[CV] C=1000.0, kernel=linear .........................................\n",
      "[CV] .......................... C=1000.0, kernel=linear, total=   0.4s\n",
      "[CV] C=1000.0, kernel=linear .........................................\n",
      "[CV] .......................... C=1000.0, kernel=linear, total=   0.5s\n",
      "[CV] C=1000.0, kernel=linear .........................................\n",
      "[CV] .......................... C=1000.0, kernel=linear, total=   0.5s\n",
      "[CV] C=1000.0, kernel=linear .........................................\n",
      "[CV] .......................... C=1000.0, kernel=linear, total=   0.6s\n",
      "[CV] C=3000.0, kernel=linear .........................................\n",
      "[CV] .......................... C=3000.0, kernel=linear, total=   0.9s\n",
      "[CV] C=3000.0, kernel=linear .........................................\n",
      "[CV] .......................... C=3000.0, kernel=linear, total=   1.0s\n",
      "[CV] C=3000.0, kernel=linear .........................................\n",
      "[CV] .......................... C=3000.0, kernel=linear, total=   1.1s\n",
      "[CV] C=3000.0, kernel=linear .........................................\n",
      "[CV] .......................... C=3000.0, kernel=linear, total=   1.2s\n",
      "[CV] C=3000.0, kernel=linear .........................................\n",
      "[CV] .......................... C=3000.0, kernel=linear, total=   1.1s\n",
      "[CV] C=10000.0, kernel=linear ........................................\n",
      "[CV] ......................... C=10000.0, kernel=linear, total=   2.0s\n",
      "[CV] C=10000.0, kernel=linear ........................................\n",
      "[CV] ......................... C=10000.0, kernel=linear, total=   2.1s\n",
      "[CV] C=10000.0, kernel=linear ........................................\n",
      "[CV] ......................... C=10000.0, kernel=linear, total=   2.3s\n",
      "[CV] C=10000.0, kernel=linear ........................................\n",
      "[CV] ......................... C=10000.0, kernel=linear, total=   2.2s\n",
      "[CV] C=10000.0, kernel=linear ........................................\n",
      "[CV] ......................... C=10000.0, kernel=linear, total=   2.3s\n",
      "[CV] C=30000.0, kernel=linear ........................................\n",
      "[CV] ......................... C=30000.0, kernel=linear, total=   4.7s\n",
      "[CV] C=30000.0, kernel=linear ........................................\n",
      "[CV] ......................... C=30000.0, kernel=linear, total=   5.1s\n",
      "[CV] C=30000.0, kernel=linear ........................................\n",
      "[CV] ......................... C=30000.0, kernel=linear, total=   5.4s\n",
      "[CV] C=30000.0, kernel=linear ........................................\n",
      "[CV] ......................... C=30000.0, kernel=linear, total=   5.3s\n",
      "[CV] C=30000.0, kernel=linear ........................................\n",
      "[CV] ......................... C=30000.0, kernel=linear, total=   5.3s\n",
      "[CV] C=1.0, gamma=0.01, kernel=rbf ...................................\n",
      "[CV] .................... C=1.0, gamma=0.01, kernel=rbf, total=   0.1s\n",
      "[CV] C=1.0, gamma=0.01, kernel=rbf ...................................\n",
      "[CV] .................... C=1.0, gamma=0.01, kernel=rbf, total=   0.1s\n",
      "[CV] C=1.0, gamma=0.01, kernel=rbf ...................................\n",
      "[CV] .................... C=1.0, gamma=0.01, kernel=rbf, total=   0.1s\n",
      "[CV] C=1.0, gamma=0.01, kernel=rbf ...................................\n",
      "[CV] .................... C=1.0, gamma=0.01, kernel=rbf, total=   0.1s\n",
      "[CV] C=1.0, gamma=0.01, kernel=rbf ...................................\n",
      "[CV] .................... C=1.0, gamma=0.01, kernel=rbf, total=   0.1s\n",
      "[CV] C=1.0, gamma=0.03, kernel=rbf ...................................\n",
      "[CV] .................... C=1.0, gamma=0.03, kernel=rbf, total=   0.1s\n",
      "[CV] C=1.0, gamma=0.03, kernel=rbf ...................................\n",
      "[CV] .................... C=1.0, gamma=0.03, kernel=rbf, total=   0.1s\n",
      "[CV] C=1.0, gamma=0.03, kernel=rbf ...................................\n",
      "[CV] .................... C=1.0, gamma=0.03, kernel=rbf, total=   0.1s\n",
      "[CV] C=1.0, gamma=0.03, kernel=rbf ...................................\n",
      "[CV] .................... C=1.0, gamma=0.03, kernel=rbf, total=   0.1s\n",
      "[CV] C=1.0, gamma=0.03, kernel=rbf ...................................\n",
      "[CV] .................... C=1.0, gamma=0.03, kernel=rbf, total=   0.1s\n",
      "[CV] C=1.0, gamma=0.1, kernel=rbf ....................................\n",
      "[CV] ..................... C=1.0, gamma=0.1, kernel=rbf, total=   0.1s\n",
      "[CV] C=1.0, gamma=0.1, kernel=rbf ....................................\n",
      "[CV] ..................... C=1.0, gamma=0.1, kernel=rbf, total=   0.1s\n",
      "[CV] C=1.0, gamma=0.1, kernel=rbf ....................................\n",
      "[CV] ..................... C=1.0, gamma=0.1, kernel=rbf, total=   0.1s\n",
      "[CV] C=1.0, gamma=0.1, kernel=rbf ....................................\n",
      "[CV] ..................... C=1.0, gamma=0.1, kernel=rbf, total=   0.1s\n",
      "[CV] C=1.0, gamma=0.1, kernel=rbf ....................................\n",
      "[CV] ..................... C=1.0, gamma=0.1, kernel=rbf, total=   0.1s\n",
      "[CV] C=1.0, gamma=0.3, kernel=rbf ....................................\n",
      "[CV] ..................... C=1.0, gamma=0.3, kernel=rbf, total=   0.1s\n",
      "[CV] C=1.0, gamma=0.3, kernel=rbf ....................................\n",
      "[CV] ..................... C=1.0, gamma=0.3, kernel=rbf, total=   0.1s\n",
      "[CV] C=1.0, gamma=0.3, kernel=rbf ....................................\n",
      "[CV] ..................... C=1.0, gamma=0.3, kernel=rbf, total=   0.1s\n",
      "[CV] C=1.0, gamma=0.3, kernel=rbf ....................................\n",
      "[CV] ..................... C=1.0, gamma=0.3, kernel=rbf, total=   0.1s\n",
      "[CV] C=1.0, gamma=0.3, kernel=rbf ....................................\n"
     ]
    },
    {
     "name": "stdout",
     "output_type": "stream",
     "text": [
      "[CV] ..................... C=1.0, gamma=0.3, kernel=rbf, total=   0.1s\n",
      "[CV] C=1.0, gamma=1.0, kernel=rbf ....................................\n",
      "[CV] ..................... C=1.0, gamma=1.0, kernel=rbf, total=   0.1s\n",
      "[CV] C=1.0, gamma=1.0, kernel=rbf ....................................\n",
      "[CV] ..................... C=1.0, gamma=1.0, kernel=rbf, total=   0.1s\n",
      "[CV] C=1.0, gamma=1.0, kernel=rbf ....................................\n",
      "[CV] ..................... C=1.0, gamma=1.0, kernel=rbf, total=   0.1s\n",
      "[CV] C=1.0, gamma=1.0, kernel=rbf ....................................\n",
      "[CV] ..................... C=1.0, gamma=1.0, kernel=rbf, total=   0.1s\n",
      "[CV] C=1.0, gamma=1.0, kernel=rbf ....................................\n",
      "[CV] ..................... C=1.0, gamma=1.0, kernel=rbf, total=   0.1s\n",
      "[CV] C=1.0, gamma=3.0, kernel=rbf ....................................\n",
      "[CV] ..................... C=1.0, gamma=3.0, kernel=rbf, total=   0.1s\n",
      "[CV] C=1.0, gamma=3.0, kernel=rbf ....................................\n",
      "[CV] ..................... C=1.0, gamma=3.0, kernel=rbf, total=   0.1s\n",
      "[CV] C=1.0, gamma=3.0, kernel=rbf ....................................\n",
      "[CV] ..................... C=1.0, gamma=3.0, kernel=rbf, total=   0.1s\n",
      "[CV] C=1.0, gamma=3.0, kernel=rbf ....................................\n",
      "[CV] ..................... C=1.0, gamma=3.0, kernel=rbf, total=   0.1s\n",
      "[CV] C=1.0, gamma=3.0, kernel=rbf ....................................\n",
      "[CV] ..................... C=1.0, gamma=3.0, kernel=rbf, total=   0.1s\n",
      "[CV] C=3.0, gamma=0.01, kernel=rbf ...................................\n",
      "[CV] .................... C=3.0, gamma=0.01, kernel=rbf, total=   0.1s\n",
      "[CV] C=3.0, gamma=0.01, kernel=rbf ...................................\n",
      "[CV] .................... C=3.0, gamma=0.01, kernel=rbf, total=   0.1s\n",
      "[CV] C=3.0, gamma=0.01, kernel=rbf ...................................\n",
      "[CV] .................... C=3.0, gamma=0.01, kernel=rbf, total=   0.1s\n",
      "[CV] C=3.0, gamma=0.01, kernel=rbf ...................................\n",
      "[CV] .................... C=3.0, gamma=0.01, kernel=rbf, total=   0.1s\n",
      "[CV] C=3.0, gamma=0.01, kernel=rbf ...................................\n",
      "[CV] .................... C=3.0, gamma=0.01, kernel=rbf, total=   0.1s\n",
      "[CV] C=3.0, gamma=0.03, kernel=rbf ...................................\n",
      "[CV] .................... C=3.0, gamma=0.03, kernel=rbf, total=   0.1s\n",
      "[CV] C=3.0, gamma=0.03, kernel=rbf ...................................\n",
      "[CV] .................... C=3.0, gamma=0.03, kernel=rbf, total=   0.1s\n",
      "[CV] C=3.0, gamma=0.03, kernel=rbf ...................................\n",
      "[CV] .................... C=3.0, gamma=0.03, kernel=rbf, total=   0.1s\n",
      "[CV] C=3.0, gamma=0.03, kernel=rbf ...................................\n",
      "[CV] .................... C=3.0, gamma=0.03, kernel=rbf, total=   0.1s\n",
      "[CV] C=3.0, gamma=0.03, kernel=rbf ...................................\n",
      "[CV] .................... C=3.0, gamma=0.03, kernel=rbf, total=   0.1s\n",
      "[CV] C=3.0, gamma=0.1, kernel=rbf ....................................\n",
      "[CV] ..................... C=3.0, gamma=0.1, kernel=rbf, total=   0.1s\n",
      "[CV] C=3.0, gamma=0.1, kernel=rbf ....................................\n",
      "[CV] ..................... C=3.0, gamma=0.1, kernel=rbf, total=   0.1s\n",
      "[CV] C=3.0, gamma=0.1, kernel=rbf ....................................\n",
      "[CV] ..................... C=3.0, gamma=0.1, kernel=rbf, total=   0.1s\n",
      "[CV] C=3.0, gamma=0.1, kernel=rbf ....................................\n",
      "[CV] ..................... C=3.0, gamma=0.1, kernel=rbf, total=   0.1s\n",
      "[CV] C=3.0, gamma=0.1, kernel=rbf ....................................\n",
      "[CV] ..................... C=3.0, gamma=0.1, kernel=rbf, total=   0.1s\n",
      "[CV] C=3.0, gamma=0.3, kernel=rbf ....................................\n",
      "[CV] ..................... C=3.0, gamma=0.3, kernel=rbf, total=   0.1s\n",
      "[CV] C=3.0, gamma=0.3, kernel=rbf ....................................\n",
      "[CV] ..................... C=3.0, gamma=0.3, kernel=rbf, total=   0.1s\n",
      "[CV] C=3.0, gamma=0.3, kernel=rbf ....................................\n",
      "[CV] ..................... C=3.0, gamma=0.3, kernel=rbf, total=   0.1s\n",
      "[CV] C=3.0, gamma=0.3, kernel=rbf ....................................\n",
      "[CV] ..................... C=3.0, gamma=0.3, kernel=rbf, total=   0.1s\n",
      "[CV] C=3.0, gamma=0.3, kernel=rbf ....................................\n",
      "[CV] ..................... C=3.0, gamma=0.3, kernel=rbf, total=   0.1s\n",
      "[CV] C=3.0, gamma=1.0, kernel=rbf ....................................\n",
      "[CV] ..................... C=3.0, gamma=1.0, kernel=rbf, total=   0.1s\n",
      "[CV] C=3.0, gamma=1.0, kernel=rbf ....................................\n",
      "[CV] ..................... C=3.0, gamma=1.0, kernel=rbf, total=   0.1s\n",
      "[CV] C=3.0, gamma=1.0, kernel=rbf ....................................\n",
      "[CV] ..................... C=3.0, gamma=1.0, kernel=rbf, total=   0.1s\n",
      "[CV] C=3.0, gamma=1.0, kernel=rbf ....................................\n",
      "[CV] ..................... C=3.0, gamma=1.0, kernel=rbf, total=   0.1s\n",
      "[CV] C=3.0, gamma=1.0, kernel=rbf ....................................\n",
      "[CV] ..................... C=3.0, gamma=1.0, kernel=rbf, total=   0.1s\n",
      "[CV] C=3.0, gamma=3.0, kernel=rbf ....................................\n",
      "[CV] ..................... C=3.0, gamma=3.0, kernel=rbf, total=   0.1s\n",
      "[CV] C=3.0, gamma=3.0, kernel=rbf ....................................\n",
      "[CV] ..................... C=3.0, gamma=3.0, kernel=rbf, total=   0.1s\n",
      "[CV] C=3.0, gamma=3.0, kernel=rbf ....................................\n",
      "[CV] ..................... C=3.0, gamma=3.0, kernel=rbf, total=   0.1s\n",
      "[CV] C=3.0, gamma=3.0, kernel=rbf ....................................\n",
      "[CV] ..................... C=3.0, gamma=3.0, kernel=rbf, total=   0.1s\n",
      "[CV] C=3.0, gamma=3.0, kernel=rbf ....................................\n",
      "[CV] ..................... C=3.0, gamma=3.0, kernel=rbf, total=   0.1s\n",
      "[CV] C=10.0, gamma=0.01, kernel=rbf ..................................\n",
      "[CV] ................... C=10.0, gamma=0.01, kernel=rbf, total=   0.1s\n",
      "[CV] C=10.0, gamma=0.01, kernel=rbf ..................................\n",
      "[CV] ................... C=10.0, gamma=0.01, kernel=rbf, total=   0.1s\n",
      "[CV] C=10.0, gamma=0.01, kernel=rbf ..................................\n",
      "[CV] ................... C=10.0, gamma=0.01, kernel=rbf, total=   0.1s\n",
      "[CV] C=10.0, gamma=0.01, kernel=rbf ..................................\n",
      "[CV] ................... C=10.0, gamma=0.01, kernel=rbf, total=   0.1s\n",
      "[CV] C=10.0, gamma=0.01, kernel=rbf ..................................\n",
      "[CV] ................... C=10.0, gamma=0.01, kernel=rbf, total=   0.1s\n",
      "[CV] C=10.0, gamma=0.03, kernel=rbf ..................................\n",
      "[CV] ................... C=10.0, gamma=0.03, kernel=rbf, total=   0.1s\n",
      "[CV] C=10.0, gamma=0.03, kernel=rbf ..................................\n",
      "[CV] ................... C=10.0, gamma=0.03, kernel=rbf, total=   0.1s\n",
      "[CV] C=10.0, gamma=0.03, kernel=rbf ..................................\n",
      "[CV] ................... C=10.0, gamma=0.03, kernel=rbf, total=   0.1s\n",
      "[CV] C=10.0, gamma=0.03, kernel=rbf ..................................\n",
      "[CV] ................... C=10.0, gamma=0.03, kernel=rbf, total=   0.1s\n",
      "[CV] C=10.0, gamma=0.03, kernel=rbf ..................................\n",
      "[CV] ................... C=10.0, gamma=0.03, kernel=rbf, total=   0.1s\n",
      "[CV] C=10.0, gamma=0.1, kernel=rbf ...................................\n",
      "[CV] .................... C=10.0, gamma=0.1, kernel=rbf, total=   0.2s\n",
      "[CV] C=10.0, gamma=0.1, kernel=rbf ...................................\n",
      "[CV] .................... C=10.0, gamma=0.1, kernel=rbf, total=   0.2s\n",
      "[CV] C=10.0, gamma=0.1, kernel=rbf ...................................\n",
      "[CV] .................... C=10.0, gamma=0.1, kernel=rbf, total=   0.2s\n",
      "[CV] C=10.0, gamma=0.1, kernel=rbf ...................................\n",
      "[CV] .................... C=10.0, gamma=0.1, kernel=rbf, total=   0.2s\n",
      "[CV] C=10.0, gamma=0.1, kernel=rbf ...................................\n",
      "[CV] .................... C=10.0, gamma=0.1, kernel=rbf, total=   0.2s\n",
      "[CV] C=10.0, gamma=0.3, kernel=rbf ...................................\n",
      "[CV] .................... C=10.0, gamma=0.3, kernel=rbf, total=   0.1s\n",
      "[CV] C=10.0, gamma=0.3, kernel=rbf ...................................\n",
      "[CV] .................... C=10.0, gamma=0.3, kernel=rbf, total=   0.2s\n",
      "[CV] C=10.0, gamma=0.3, kernel=rbf ...................................\n"
     ]
    },
    {
     "name": "stdout",
     "output_type": "stream",
     "text": [
      "[CV] .................... C=10.0, gamma=0.3, kernel=rbf, total=   0.2s\n",
      "[CV] C=10.0, gamma=0.3, kernel=rbf ...................................\n",
      "[CV] .................... C=10.0, gamma=0.3, kernel=rbf, total=   0.2s\n",
      "[CV] C=10.0, gamma=0.3, kernel=rbf ...................................\n",
      "[CV] .................... C=10.0, gamma=0.3, kernel=rbf, total=   0.2s\n",
      "[CV] C=10.0, gamma=1.0, kernel=rbf ...................................\n",
      "[CV] .................... C=10.0, gamma=1.0, kernel=rbf, total=   0.2s\n",
      "[CV] C=10.0, gamma=1.0, kernel=rbf ...................................\n",
      "[CV] .................... C=10.0, gamma=1.0, kernel=rbf, total=   0.2s\n",
      "[CV] C=10.0, gamma=1.0, kernel=rbf ...................................\n",
      "[CV] .................... C=10.0, gamma=1.0, kernel=rbf, total=   0.2s\n",
      "[CV] C=10.0, gamma=1.0, kernel=rbf ...................................\n",
      "[CV] .................... C=10.0, gamma=1.0, kernel=rbf, total=   0.1s\n",
      "[CV] C=10.0, gamma=1.0, kernel=rbf ...................................\n",
      "[CV] .................... C=10.0, gamma=1.0, kernel=rbf, total=   0.1s\n",
      "[CV] C=10.0, gamma=3.0, kernel=rbf ...................................\n",
      "[CV] .................... C=10.0, gamma=3.0, kernel=rbf, total=   0.1s\n",
      "[CV] C=10.0, gamma=3.0, kernel=rbf ...................................\n",
      "[CV] .................... C=10.0, gamma=3.0, kernel=rbf, total=   0.1s\n",
      "[CV] C=10.0, gamma=3.0, kernel=rbf ...................................\n",
      "[CV] .................... C=10.0, gamma=3.0, kernel=rbf, total=   0.1s\n",
      "[CV] C=10.0, gamma=3.0, kernel=rbf ...................................\n",
      "[CV] .................... C=10.0, gamma=3.0, kernel=rbf, total=   0.1s\n",
      "[CV] C=10.0, gamma=3.0, kernel=rbf ...................................\n",
      "[CV] .................... C=10.0, gamma=3.0, kernel=rbf, total=   0.1s\n",
      "[CV] C=30.0, gamma=0.01, kernel=rbf ..................................\n",
      "[CV] ................... C=30.0, gamma=0.01, kernel=rbf, total=   0.2s\n",
      "[CV] C=30.0, gamma=0.01, kernel=rbf ..................................\n",
      "[CV] ................... C=30.0, gamma=0.01, kernel=rbf, total=   0.2s\n",
      "[CV] C=30.0, gamma=0.01, kernel=rbf ..................................\n",
      "[CV] ................... C=30.0, gamma=0.01, kernel=rbf, total=   0.2s\n",
      "[CV] C=30.0, gamma=0.01, kernel=rbf ..................................\n",
      "[CV] ................... C=30.0, gamma=0.01, kernel=rbf, total=   0.2s\n",
      "[CV] C=30.0, gamma=0.01, kernel=rbf ..................................\n",
      "[CV] ................... C=30.0, gamma=0.01, kernel=rbf, total=   0.1s\n",
      "[CV] C=30.0, gamma=0.03, kernel=rbf ..................................\n",
      "[CV] ................... C=30.0, gamma=0.03, kernel=rbf, total=   0.1s\n",
      "[CV] C=30.0, gamma=0.03, kernel=rbf ..................................\n",
      "[CV] ................... C=30.0, gamma=0.03, kernel=rbf, total=   0.1s\n",
      "[CV] C=30.0, gamma=0.03, kernel=rbf ..................................\n",
      "[CV] ................... C=30.0, gamma=0.03, kernel=rbf, total=   0.1s\n",
      "[CV] C=30.0, gamma=0.03, kernel=rbf ..................................\n",
      "[CV] ................... C=30.0, gamma=0.03, kernel=rbf, total=   0.2s\n",
      "[CV] C=30.0, gamma=0.03, kernel=rbf ..................................\n",
      "[CV] ................... C=30.0, gamma=0.03, kernel=rbf, total=   0.1s\n",
      "[CV] C=30.0, gamma=0.1, kernel=rbf ...................................\n",
      "[CV] .................... C=30.0, gamma=0.1, kernel=rbf, total=   0.2s\n",
      "[CV] C=30.0, gamma=0.1, kernel=rbf ...................................\n",
      "[CV] .................... C=30.0, gamma=0.1, kernel=rbf, total=   0.2s\n",
      "[CV] C=30.0, gamma=0.1, kernel=rbf ...................................\n",
      "[CV] .................... C=30.0, gamma=0.1, kernel=rbf, total=   0.2s\n",
      "[CV] C=30.0, gamma=0.1, kernel=rbf ...................................\n",
      "[CV] .................... C=30.0, gamma=0.1, kernel=rbf, total=   0.2s\n",
      "[CV] C=30.0, gamma=0.1, kernel=rbf ...................................\n",
      "[CV] .................... C=30.0, gamma=0.1, kernel=rbf, total=   0.2s\n",
      "[CV] C=30.0, gamma=0.3, kernel=rbf ...................................\n",
      "[CV] .................... C=30.0, gamma=0.3, kernel=rbf, total=   0.2s\n",
      "[CV] C=30.0, gamma=0.3, kernel=rbf ...................................\n",
      "[CV] .................... C=30.0, gamma=0.3, kernel=rbf, total=   0.2s\n",
      "[CV] C=30.0, gamma=0.3, kernel=rbf ...................................\n",
      "[CV] .................... C=30.0, gamma=0.3, kernel=rbf, total=   0.2s\n",
      "[CV] C=30.0, gamma=0.3, kernel=rbf ...................................\n",
      "[CV] .................... C=30.0, gamma=0.3, kernel=rbf, total=   0.1s\n",
      "[CV] C=30.0, gamma=0.3, kernel=rbf ...................................\n",
      "[CV] .................... C=30.0, gamma=0.3, kernel=rbf, total=   0.1s\n",
      "[CV] C=30.0, gamma=1.0, kernel=rbf ...................................\n",
      "[CV] .................... C=30.0, gamma=1.0, kernel=rbf, total=   0.1s\n",
      "[CV] C=30.0, gamma=1.0, kernel=rbf ...................................\n",
      "[CV] .................... C=30.0, gamma=1.0, kernel=rbf, total=   0.2s\n",
      "[CV] C=30.0, gamma=1.0, kernel=rbf ...................................\n",
      "[CV] .................... C=30.0, gamma=1.0, kernel=rbf, total=   0.2s\n",
      "[CV] C=30.0, gamma=1.0, kernel=rbf ...................................\n",
      "[CV] .................... C=30.0, gamma=1.0, kernel=rbf, total=   0.2s\n",
      "[CV] C=30.0, gamma=1.0, kernel=rbf ...................................\n",
      "[CV] .................... C=30.0, gamma=1.0, kernel=rbf, total=   0.1s\n",
      "[CV] C=30.0, gamma=3.0, kernel=rbf ...................................\n",
      "[CV] .................... C=30.0, gamma=3.0, kernel=rbf, total=   0.2s\n",
      "[CV] C=30.0, gamma=3.0, kernel=rbf ...................................\n",
      "[CV] .................... C=30.0, gamma=3.0, kernel=rbf, total=   0.1s\n",
      "[CV] C=30.0, gamma=3.0, kernel=rbf ...................................\n",
      "[CV] .................... C=30.0, gamma=3.0, kernel=rbf, total=   0.2s\n",
      "[CV] C=30.0, gamma=3.0, kernel=rbf ...................................\n",
      "[CV] .................... C=30.0, gamma=3.0, kernel=rbf, total=   0.2s\n",
      "[CV] C=30.0, gamma=3.0, kernel=rbf ...................................\n",
      "[CV] .................... C=30.0, gamma=3.0, kernel=rbf, total=   0.2s\n",
      "[CV] C=100.0, gamma=0.01, kernel=rbf .................................\n",
      "[CV] .................. C=100.0, gamma=0.01, kernel=rbf, total=   0.1s\n",
      "[CV] C=100.0, gamma=0.01, kernel=rbf .................................\n",
      "[CV] .................. C=100.0, gamma=0.01, kernel=rbf, total=   0.2s\n",
      "[CV] C=100.0, gamma=0.01, kernel=rbf .................................\n",
      "[CV] .................. C=100.0, gamma=0.01, kernel=rbf, total=   0.2s\n",
      "[CV] C=100.0, gamma=0.01, kernel=rbf .................................\n",
      "[CV] .................. C=100.0, gamma=0.01, kernel=rbf, total=   0.2s\n",
      "[CV] C=100.0, gamma=0.01, kernel=rbf .................................\n",
      "[CV] .................. C=100.0, gamma=0.01, kernel=rbf, total=   0.2s\n",
      "[CV] C=100.0, gamma=0.03, kernel=rbf .................................\n",
      "[CV] .................. C=100.0, gamma=0.03, kernel=rbf, total=   0.1s\n",
      "[CV] C=100.0, gamma=0.03, kernel=rbf .................................\n",
      "[CV] .................. C=100.0, gamma=0.03, kernel=rbf, total=   0.1s\n",
      "[CV] C=100.0, gamma=0.03, kernel=rbf .................................\n",
      "[CV] .................. C=100.0, gamma=0.03, kernel=rbf, total=   0.1s\n",
      "[CV] C=100.0, gamma=0.03, kernel=rbf .................................\n",
      "[CV] .................. C=100.0, gamma=0.03, kernel=rbf, total=   0.1s\n",
      "[CV] C=100.0, gamma=0.03, kernel=rbf .................................\n",
      "[CV] .................. C=100.0, gamma=0.03, kernel=rbf, total=   0.2s\n",
      "[CV] C=100.0, gamma=0.1, kernel=rbf ..................................\n",
      "[CV] ................... C=100.0, gamma=0.1, kernel=rbf, total=   0.1s\n",
      "[CV] C=100.0, gamma=0.1, kernel=rbf ..................................\n",
      "[CV] ................... C=100.0, gamma=0.1, kernel=rbf, total=   0.2s\n",
      "[CV] C=100.0, gamma=0.1, kernel=rbf ..................................\n",
      "[CV] ................... C=100.0, gamma=0.1, kernel=rbf, total=   0.2s\n",
      "[CV] C=100.0, gamma=0.1, kernel=rbf ..................................\n",
      "[CV] ................... C=100.0, gamma=0.1, kernel=rbf, total=   0.1s\n",
      "[CV] C=100.0, gamma=0.1, kernel=rbf ..................................\n",
      "[CV] ................... C=100.0, gamma=0.1, kernel=rbf, total=   0.2s\n",
      "[CV] C=100.0, gamma=0.3, kernel=rbf ..................................\n"
     ]
    },
    {
     "name": "stdout",
     "output_type": "stream",
     "text": [
      "[CV] ................... C=100.0, gamma=0.3, kernel=rbf, total=   0.2s\n",
      "[CV] C=100.0, gamma=0.3, kernel=rbf ..................................\n",
      "[CV] ................... C=100.0, gamma=0.3, kernel=rbf, total=   0.2s\n",
      "[CV] C=100.0, gamma=0.3, kernel=rbf ..................................\n",
      "[CV] ................... C=100.0, gamma=0.3, kernel=rbf, total=   0.2s\n",
      "[CV] C=100.0, gamma=0.3, kernel=rbf ..................................\n",
      "[CV] ................... C=100.0, gamma=0.3, kernel=rbf, total=   0.2s\n",
      "[CV] C=100.0, gamma=0.3, kernel=rbf ..................................\n",
      "[CV] ................... C=100.0, gamma=0.3, kernel=rbf, total=   0.2s\n",
      "[CV] C=100.0, gamma=1.0, kernel=rbf ..................................\n",
      "[CV] ................... C=100.0, gamma=1.0, kernel=rbf, total=   0.2s\n",
      "[CV] C=100.0, gamma=1.0, kernel=rbf ..................................\n",
      "[CV] ................... C=100.0, gamma=1.0, kernel=rbf, total=   0.2s\n",
      "[CV] C=100.0, gamma=1.0, kernel=rbf ..................................\n",
      "[CV] ................... C=100.0, gamma=1.0, kernel=rbf, total=   0.2s\n",
      "[CV] C=100.0, gamma=1.0, kernel=rbf ..................................\n",
      "[CV] ................... C=100.0, gamma=1.0, kernel=rbf, total=   0.2s\n",
      "[CV] C=100.0, gamma=1.0, kernel=rbf ..................................\n",
      "[CV] ................... C=100.0, gamma=1.0, kernel=rbf, total=   0.1s\n",
      "[CV] C=100.0, gamma=3.0, kernel=rbf ..................................\n",
      "[CV] ................... C=100.0, gamma=3.0, kernel=rbf, total=   0.2s\n",
      "[CV] C=100.0, gamma=3.0, kernel=rbf ..................................\n",
      "[CV] ................... C=100.0, gamma=3.0, kernel=rbf, total=   0.2s\n",
      "[CV] C=100.0, gamma=3.0, kernel=rbf ..................................\n",
      "[CV] ................... C=100.0, gamma=3.0, kernel=rbf, total=   0.2s\n",
      "[CV] C=100.0, gamma=3.0, kernel=rbf ..................................\n",
      "[CV] ................... C=100.0, gamma=3.0, kernel=rbf, total=   0.2s\n",
      "[CV] C=100.0, gamma=3.0, kernel=rbf ..................................\n",
      "[CV] ................... C=100.0, gamma=3.0, kernel=rbf, total=   0.2s\n",
      "[CV] C=300.0, gamma=0.01, kernel=rbf .................................\n",
      "[CV] .................. C=300.0, gamma=0.01, kernel=rbf, total=   0.1s\n",
      "[CV] C=300.0, gamma=0.01, kernel=rbf .................................\n",
      "[CV] .................. C=300.0, gamma=0.01, kernel=rbf, total=   0.1s\n",
      "[CV] C=300.0, gamma=0.01, kernel=rbf .................................\n",
      "[CV] .................. C=300.0, gamma=0.01, kernel=rbf, total=   0.1s\n",
      "[CV] C=300.0, gamma=0.01, kernel=rbf .................................\n",
      "[CV] .................. C=300.0, gamma=0.01, kernel=rbf, total=   0.2s\n",
      "[CV] C=300.0, gamma=0.01, kernel=rbf .................................\n",
      "[CV] .................. C=300.0, gamma=0.01, kernel=rbf, total=   0.2s\n",
      "[CV] C=300.0, gamma=0.03, kernel=rbf .................................\n",
      "[CV] .................. C=300.0, gamma=0.03, kernel=rbf, total=   0.2s\n",
      "[CV] C=300.0, gamma=0.03, kernel=rbf .................................\n",
      "[CV] .................. C=300.0, gamma=0.03, kernel=rbf, total=   0.2s\n",
      "[CV] C=300.0, gamma=0.03, kernel=rbf .................................\n",
      "[CV] .................. C=300.0, gamma=0.03, kernel=rbf, total=   0.2s\n",
      "[CV] C=300.0, gamma=0.03, kernel=rbf .................................\n",
      "[CV] .................. C=300.0, gamma=0.03, kernel=rbf, total=   0.2s\n",
      "[CV] C=300.0, gamma=0.03, kernel=rbf .................................\n",
      "[CV] .................. C=300.0, gamma=0.03, kernel=rbf, total=   0.2s\n",
      "[CV] C=300.0, gamma=0.1, kernel=rbf ..................................\n",
      "[CV] ................... C=300.0, gamma=0.1, kernel=rbf, total=   0.2s\n",
      "[CV] C=300.0, gamma=0.1, kernel=rbf ..................................\n",
      "[CV] ................... C=300.0, gamma=0.1, kernel=rbf, total=   0.2s\n",
      "[CV] C=300.0, gamma=0.1, kernel=rbf ..................................\n",
      "[CV] ................... C=300.0, gamma=0.1, kernel=rbf, total=   0.2s\n",
      "[CV] C=300.0, gamma=0.1, kernel=rbf ..................................\n",
      "[CV] ................... C=300.0, gamma=0.1, kernel=rbf, total=   0.2s\n",
      "[CV] C=300.0, gamma=0.1, kernel=rbf ..................................\n",
      "[CV] ................... C=300.0, gamma=0.1, kernel=rbf, total=   0.2s\n",
      "[CV] C=300.0, gamma=0.3, kernel=rbf ..................................\n",
      "[CV] ................... C=300.0, gamma=0.3, kernel=rbf, total=   0.2s\n",
      "[CV] C=300.0, gamma=0.3, kernel=rbf ..................................\n",
      "[CV] ................... C=300.0, gamma=0.3, kernel=rbf, total=   0.2s\n",
      "[CV] C=300.0, gamma=0.3, kernel=rbf ..................................\n",
      "[CV] ................... C=300.0, gamma=0.3, kernel=rbf, total=   0.2s\n",
      "[CV] C=300.0, gamma=0.3, kernel=rbf ..................................\n",
      "[CV] ................... C=300.0, gamma=0.3, kernel=rbf, total=   0.2s\n",
      "[CV] C=300.0, gamma=0.3, kernel=rbf ..................................\n",
      "[CV] ................... C=300.0, gamma=0.3, kernel=rbf, total=   0.2s\n",
      "[CV] C=300.0, gamma=1.0, kernel=rbf ..................................\n",
      "[CV] ................... C=300.0, gamma=1.0, kernel=rbf, total=   0.2s\n",
      "[CV] C=300.0, gamma=1.0, kernel=rbf ..................................\n",
      "[CV] ................... C=300.0, gamma=1.0, kernel=rbf, total=   0.2s\n",
      "[CV] C=300.0, gamma=1.0, kernel=rbf ..................................\n",
      "[CV] ................... C=300.0, gamma=1.0, kernel=rbf, total=   0.2s\n",
      "[CV] C=300.0, gamma=1.0, kernel=rbf ..................................\n",
      "[CV] ................... C=300.0, gamma=1.0, kernel=rbf, total=   0.2s\n",
      "[CV] C=300.0, gamma=1.0, kernel=rbf ..................................\n",
      "[CV] ................... C=300.0, gamma=1.0, kernel=rbf, total=   0.2s\n",
      "[CV] C=300.0, gamma=3.0, kernel=rbf ..................................\n",
      "[CV] ................... C=300.0, gamma=3.0, kernel=rbf, total=   0.3s\n",
      "[CV] C=300.0, gamma=3.0, kernel=rbf ..................................\n",
      "[CV] ................... C=300.0, gamma=3.0, kernel=rbf, total=   0.3s\n",
      "[CV] C=300.0, gamma=3.0, kernel=rbf ..................................\n",
      "[CV] ................... C=300.0, gamma=3.0, kernel=rbf, total=   0.2s\n",
      "[CV] C=300.0, gamma=3.0, kernel=rbf ..................................\n",
      "[CV] ................... C=300.0, gamma=3.0, kernel=rbf, total=   0.3s\n",
      "[CV] C=300.0, gamma=3.0, kernel=rbf ..................................\n",
      "[CV] ................... C=300.0, gamma=3.0, kernel=rbf, total=   0.3s\n",
      "[CV] C=1000.0, gamma=0.01, kernel=rbf ................................\n",
      "[CV] ................. C=1000.0, gamma=0.01, kernel=rbf, total=   0.2s\n",
      "[CV] C=1000.0, gamma=0.01, kernel=rbf ................................\n",
      "[CV] ................. C=1000.0, gamma=0.01, kernel=rbf, total=   0.2s\n",
      "[CV] C=1000.0, gamma=0.01, kernel=rbf ................................\n",
      "[CV] ................. C=1000.0, gamma=0.01, kernel=rbf, total=   0.2s\n",
      "[CV] C=1000.0, gamma=0.01, kernel=rbf ................................\n",
      "[CV] ................. C=1000.0, gamma=0.01, kernel=rbf, total=   0.2s\n",
      "[CV] C=1000.0, gamma=0.01, kernel=rbf ................................\n",
      "[CV] ................. C=1000.0, gamma=0.01, kernel=rbf, total=   0.2s\n",
      "[CV] C=1000.0, gamma=0.03, kernel=rbf ................................\n",
      "[CV] ................. C=1000.0, gamma=0.03, kernel=rbf, total=   0.2s\n",
      "[CV] C=1000.0, gamma=0.03, kernel=rbf ................................\n",
      "[CV] ................. C=1000.0, gamma=0.03, kernel=rbf, total=   0.2s\n",
      "[CV] C=1000.0, gamma=0.03, kernel=rbf ................................\n",
      "[CV] ................. C=1000.0, gamma=0.03, kernel=rbf, total=   0.2s\n",
      "[CV] C=1000.0, gamma=0.03, kernel=rbf ................................\n",
      "[CV] ................. C=1000.0, gamma=0.03, kernel=rbf, total=   0.2s\n",
      "[CV] C=1000.0, gamma=0.03, kernel=rbf ................................\n",
      "[CV] ................. C=1000.0, gamma=0.03, kernel=rbf, total=   0.2s\n",
      "[CV] C=1000.0, gamma=0.1, kernel=rbf .................................\n",
      "[CV] .................. C=1000.0, gamma=0.1, kernel=rbf, total=   0.2s\n",
      "[CV] C=1000.0, gamma=0.1, kernel=rbf .................................\n",
      "[CV] .................. C=1000.0, gamma=0.1, kernel=rbf, total=   0.2s\n",
      "[CV] C=1000.0, gamma=0.1, kernel=rbf .................................\n",
      "[CV] .................. C=1000.0, gamma=0.1, kernel=rbf, total=   0.2s\n",
      "[CV] C=1000.0, gamma=0.1, kernel=rbf .................................\n"
     ]
    },
    {
     "name": "stdout",
     "output_type": "stream",
     "text": [
      "[CV] .................. C=1000.0, gamma=0.1, kernel=rbf, total=   0.2s\n",
      "[CV] C=1000.0, gamma=0.1, kernel=rbf .................................\n",
      "[CV] .................. C=1000.0, gamma=0.1, kernel=rbf, total=   0.2s\n",
      "[CV] C=1000.0, gamma=0.3, kernel=rbf .................................\n",
      "[CV] .................. C=1000.0, gamma=0.3, kernel=rbf, total=   0.2s\n",
      "[CV] C=1000.0, gamma=0.3, kernel=rbf .................................\n",
      "[CV] .................. C=1000.0, gamma=0.3, kernel=rbf, total=   0.2s\n",
      "[CV] C=1000.0, gamma=0.3, kernel=rbf .................................\n",
      "[CV] .................. C=1000.0, gamma=0.3, kernel=rbf, total=   0.2s\n",
      "[CV] C=1000.0, gamma=0.3, kernel=rbf .................................\n",
      "[CV] .................. C=1000.0, gamma=0.3, kernel=rbf, total=   0.2s\n",
      "[CV] C=1000.0, gamma=0.3, kernel=rbf .................................\n",
      "[CV] .................. C=1000.0, gamma=0.3, kernel=rbf, total=   0.2s\n",
      "[CV] C=1000.0, gamma=1.0, kernel=rbf .................................\n",
      "[CV] .................. C=1000.0, gamma=1.0, kernel=rbf, total=   0.2s\n",
      "[CV] C=1000.0, gamma=1.0, kernel=rbf .................................\n",
      "[CV] .................. C=1000.0, gamma=1.0, kernel=rbf, total=   0.3s\n",
      "[CV] C=1000.0, gamma=1.0, kernel=rbf .................................\n",
      "[CV] .................. C=1000.0, gamma=1.0, kernel=rbf, total=   0.3s\n",
      "[CV] C=1000.0, gamma=1.0, kernel=rbf .................................\n",
      "[CV] .................. C=1000.0, gamma=1.0, kernel=rbf, total=   0.3s\n",
      "[CV] C=1000.0, gamma=1.0, kernel=rbf .................................\n",
      "[CV] .................. C=1000.0, gamma=1.0, kernel=rbf, total=   0.2s\n",
      "[CV] C=1000.0, gamma=3.0, kernel=rbf .................................\n",
      "[CV] .................. C=1000.0, gamma=3.0, kernel=rbf, total=   0.5s\n",
      "[CV] C=1000.0, gamma=3.0, kernel=rbf .................................\n",
      "[CV] .................. C=1000.0, gamma=3.0, kernel=rbf, total=   0.5s\n",
      "[CV] C=1000.0, gamma=3.0, kernel=rbf .................................\n",
      "[CV] .................. C=1000.0, gamma=3.0, kernel=rbf, total=   0.6s\n",
      "[CV] C=1000.0, gamma=3.0, kernel=rbf .................................\n",
      "[CV] .................. C=1000.0, gamma=3.0, kernel=rbf, total=   0.6s\n",
      "[CV] C=1000.0, gamma=3.0, kernel=rbf .................................\n",
      "[CV] .................. C=1000.0, gamma=3.0, kernel=rbf, total=   0.5s\n"
     ]
    },
    {
     "name": "stderr",
     "output_type": "stream",
     "text": [
      "[Parallel(n_jobs=1)]: Done 250 out of 250 | elapsed:  1.4min finished\n"
     ]
    },
    {
     "data": {
      "text/plain": [
       "GridSearchCV(cv=5, error_score=nan,\n",
       "             estimator=SVR(C=1.0, cache_size=200, coef0=0.0, degree=3,\n",
       "                           epsilon=0.1, gamma='scale', kernel='rbf',\n",
       "                           max_iter=-1, shrinking=True, tol=0.001,\n",
       "                           verbose=False),\n",
       "             iid='deprecated', n_jobs=None,\n",
       "             param_grid=[{'C': [10.0, 30.0, 100.0, 300.0, 1000.0, 3000.0,\n",
       "                                10000.0, 30000.0],\n",
       "                          'kernel': ['linear']},\n",
       "                         {'C': [1.0, 3.0, 10.0, 30.0, 100.0, 300.0, 1000.0],\n",
       "                          'gamma': [0.01, 0.03, 0.1, 0.3, 1.0, 3.0],\n",
       "                          'kernel': ['rbf']}],\n",
       "             pre_dispatch='2*n_jobs', refit=True, return_train_score=False,\n",
       "             scoring='neg_mean_squared_error', verbose=2)"
      ]
     },
     "execution_count": 79,
     "metadata": {},
     "output_type": "execute_result"
    }
   ],
   "source": [
    "# Try a support vector machine regressor with various parameters\n",
    "\n",
    "from sklearn.model_selection import GridSearchCV\n",
    "from sklearn.svm import SVR\n",
    "\n",
    "param_grid = [\n",
    "    {'kernel': [\"linear\"], 'C': [10., 30., 100., 300., 1000., 3000., 10000., 30000.0]},\n",
    "    {'kernel': [\"rbf\"], 'C': [1.0, 3.0, 10., 30., 100., 300., 1000.0],\n",
    "     'gamma': [0.01, 0.03, 0.1, 0.3, 1.0, 3.0]}\n",
    "]\n",
    "\n",
    "svm_reg = SVR()\n",
    "grid_search = GridSearchCV(svm_reg, param_grid, cv=5, scoring=\"neg_mean_squared_error\",\n",
    "                           verbose=2)\n",
    "\n",
    "grid_search.fit(df_train_prepared, df_train_labels)"
   ]
  },
  {
   "cell_type": "code",
   "execution_count": 81,
   "metadata": {},
   "outputs": [
    {
     "data": {
      "text/plain": [
       "44.9644450287513"
      ]
     },
     "execution_count": 81,
     "metadata": {},
     "output_type": "execute_result"
    }
   ],
   "source": [
    "negative_mse = grid_search.best_score_\n",
    "rmse = np.sqrt(-negative_mse)\n",
    "rmse"
   ]
  },
  {
   "cell_type": "code",
   "execution_count": 82,
   "metadata": {},
   "outputs": [
    {
     "data": {
      "text/plain": [
       "{'C': 1000.0, 'gamma': 3.0, 'kernel': 'rbf'}"
      ]
     },
     "execution_count": 82,
     "metadata": {},
     "output_type": "execute_result"
    }
   ],
   "source": [
    "grid_search.best_params_"
   ]
  },
  {
   "cell_type": "code",
   "execution_count": 88,
   "metadata": {},
   "outputs": [
    {
     "name": "stdout",
     "output_type": "stream",
     "text": [
      "Fitting 5 folds for each of 50 candidates, totalling 250 fits\n",
      "[CV] C=629.782329591372, gamma=3.010121430917521, kernel=linear ......\n"
     ]
    },
    {
     "name": "stderr",
     "output_type": "stream",
     "text": [
      "[Parallel(n_jobs=1)]: Using backend SequentialBackend with 1 concurrent workers.\n"
     ]
    },
    {
     "name": "stdout",
     "output_type": "stream",
     "text": [
      "[CV]  C=629.782329591372, gamma=3.010121430917521, kernel=linear, total=   0.4s\n",
      "[CV] C=629.782329591372, gamma=3.010121430917521, kernel=linear ......\n"
     ]
    },
    {
     "name": "stderr",
     "output_type": "stream",
     "text": [
      "[Parallel(n_jobs=1)]: Done   1 out of   1 | elapsed:    0.4s remaining:    0.0s\n"
     ]
    },
    {
     "name": "stdout",
     "output_type": "stream",
     "text": [
      "[CV]  C=629.782329591372, gamma=3.010121430917521, kernel=linear, total=   0.3s\n",
      "[CV] C=629.782329591372, gamma=3.010121430917521, kernel=linear ......\n",
      "[CV]  C=629.782329591372, gamma=3.010121430917521, kernel=linear, total=   0.4s\n",
      "[CV] C=629.782329591372, gamma=3.010121430917521, kernel=linear ......\n",
      "[CV]  C=629.782329591372, gamma=3.010121430917521, kernel=linear, total=   0.3s\n",
      "[CV] C=629.782329591372, gamma=3.010121430917521, kernel=linear ......\n",
      "[CV]  C=629.782329591372, gamma=3.010121430917521, kernel=linear, total=   0.4s\n",
      "[CV] C=26290.206464300216, gamma=0.9084469696321253, kernel=rbf ......\n",
      "[CV]  C=26290.206464300216, gamma=0.9084469696321253, kernel=rbf, total=   3.5s\n",
      "[CV] C=26290.206464300216, gamma=0.9084469696321253, kernel=rbf ......\n",
      "[CV]  C=26290.206464300216, gamma=0.9084469696321253, kernel=rbf, total=   4.1s\n",
      "[CV] C=26290.206464300216, gamma=0.9084469696321253, kernel=rbf ......\n",
      "[CV]  C=26290.206464300216, gamma=0.9084469696321253, kernel=rbf, total=   6.7s\n",
      "[CV] C=26290.206464300216, gamma=0.9084469696321253, kernel=rbf ......\n",
      "[CV]  C=26290.206464300216, gamma=0.9084469696321253, kernel=rbf, total=   4.9s\n",
      "[CV] C=26290.206464300216, gamma=0.9084469696321253, kernel=rbf ......\n",
      "[CV]  C=26290.206464300216, gamma=0.9084469696321253, kernel=rbf, total=   4.1s\n",
      "[CV] C=84.14107900575871, gamma=0.059838768608680676, kernel=rbf .....\n",
      "[CV]  C=84.14107900575871, gamma=0.059838768608680676, kernel=rbf, total=   0.2s\n",
      "[CV] C=84.14107900575871, gamma=0.059838768608680676, kernel=rbf .....\n",
      "[CV]  C=84.14107900575871, gamma=0.059838768608680676, kernel=rbf, total=   0.2s\n",
      "[CV] C=84.14107900575871, gamma=0.059838768608680676, kernel=rbf .....\n",
      "[CV]  C=84.14107900575871, gamma=0.059838768608680676, kernel=rbf, total=   0.1s\n",
      "[CV] C=84.14107900575871, gamma=0.059838768608680676, kernel=rbf .....\n",
      "[CV]  C=84.14107900575871, gamma=0.059838768608680676, kernel=rbf, total=   0.2s\n",
      "[CV] C=84.14107900575871, gamma=0.059838768608680676, kernel=rbf .....\n",
      "[CV]  C=84.14107900575871, gamma=0.059838768608680676, kernel=rbf, total=   0.2s\n",
      "[CV] C=432.37884813148855, gamma=0.15416196746656105, kernel=linear ..\n",
      "[CV]  C=432.37884813148855, gamma=0.15416196746656105, kernel=linear, total=   0.3s\n",
      "[CV] C=432.37884813148855, gamma=0.15416196746656105, kernel=linear ..\n",
      "[CV]  C=432.37884813148855, gamma=0.15416196746656105, kernel=linear, total=   0.3s\n",
      "[CV] C=432.37884813148855, gamma=0.15416196746656105, kernel=linear ..\n",
      "[CV]  C=432.37884813148855, gamma=0.15416196746656105, kernel=linear, total=   0.3s\n",
      "[CV] C=432.37884813148855, gamma=0.15416196746656105, kernel=linear ..\n",
      "[CV]  C=432.37884813148855, gamma=0.15416196746656105, kernel=linear, total=   0.3s\n",
      "[CV] C=432.37884813148855, gamma=0.15416196746656105, kernel=linear ..\n",
      "[CV]  C=432.37884813148855, gamma=0.15416196746656105, kernel=linear, total=   0.3s\n",
      "[CV] C=24.17508294611391, gamma=3.503557475158312, kernel=rbf ........\n",
      "[CV]  C=24.17508294611391, gamma=3.503557475158312, kernel=rbf, total=   0.2s\n",
      "[CV] C=24.17508294611391, gamma=3.503557475158312, kernel=rbf ........\n",
      "[CV]  C=24.17508294611391, gamma=3.503557475158312, kernel=rbf, total=   0.2s\n",
      "[CV] C=24.17508294611391, gamma=3.503557475158312, kernel=rbf ........\n",
      "[CV]  C=24.17508294611391, gamma=3.503557475158312, kernel=rbf, total=   0.2s\n",
      "[CV] C=24.17508294611391, gamma=3.503557475158312, kernel=rbf ........\n",
      "[CV]  C=24.17508294611391, gamma=3.503557475158312, kernel=rbf, total=   0.2s\n",
      "[CV] C=24.17508294611391, gamma=3.503557475158312, kernel=rbf ........\n",
      "[CV]  C=24.17508294611391, gamma=3.503557475158312, kernel=rbf, total=   0.1s\n",
      "[CV] C=113564.03940586245, gamma=0.0007790692366582295, kernel=rbf ...\n",
      "[CV]  C=113564.03940586245, gamma=0.0007790692366582295, kernel=rbf, total=   0.2s\n",
      "[CV] C=113564.03940586245, gamma=0.0007790692366582295, kernel=rbf ...\n",
      "[CV]  C=113564.03940586245, gamma=0.0007790692366582295, kernel=rbf, total=   0.2s\n",
      "[CV] C=113564.03940586245, gamma=0.0007790692366582295, kernel=rbf ...\n",
      "[CV]  C=113564.03940586245, gamma=0.0007790692366582295, kernel=rbf, total=   0.2s\n",
      "[CV] C=113564.03940586245, gamma=0.0007790692366582295, kernel=rbf ...\n",
      "[CV]  C=113564.03940586245, gamma=0.0007790692366582295, kernel=rbf, total=   0.2s\n",
      "[CV] C=113564.03940586245, gamma=0.0007790692366582295, kernel=rbf ...\n",
      "[CV]  C=113564.03940586245, gamma=0.0007790692366582295, kernel=rbf, total=   0.3s\n",
      "[CV] C=108.30488238805073, gamma=0.3627537294604771, kernel=rbf ......\n",
      "[CV]  C=108.30488238805073, gamma=0.3627537294604771, kernel=rbf, total=   0.2s\n",
      "[CV] C=108.30488238805073, gamma=0.3627537294604771, kernel=rbf ......\n",
      "[CV]  C=108.30488238805073, gamma=0.3627537294604771, kernel=rbf, total=   0.2s\n",
      "[CV] C=108.30488238805073, gamma=0.3627537294604771, kernel=rbf ......\n",
      "[CV]  C=108.30488238805073, gamma=0.3627537294604771, kernel=rbf, total=   0.2s\n",
      "[CV] C=108.30488238805073, gamma=0.3627537294604771, kernel=rbf ......\n",
      "[CV]  C=108.30488238805073, gamma=0.3627537294604771, kernel=rbf, total=   0.2s\n",
      "[CV] C=108.30488238805073, gamma=0.3627537294604771, kernel=rbf ......\n",
      "[CV]  C=108.30488238805073, gamma=0.3627537294604771, kernel=rbf, total=   0.2s\n",
      "[CV] C=21.344953672647435, gamma=0.023332523598323388, kernel=linear .\n",
      "[CV]  C=21.344953672647435, gamma=0.023332523598323388, kernel=linear, total=   0.1s\n",
      "[CV] C=21.344953672647435, gamma=0.023332523598323388, kernel=linear .\n",
      "[CV]  C=21.344953672647435, gamma=0.023332523598323388, kernel=linear, total=   0.1s\n",
      "[CV] C=21.344953672647435, gamma=0.023332523598323388, kernel=linear .\n",
      "[CV]  C=21.344953672647435, gamma=0.023332523598323388, kernel=linear, total=   0.1s\n",
      "[CV] C=21.344953672647435, gamma=0.023332523598323388, kernel=linear .\n",
      "[CV]  C=21.344953672647435, gamma=0.023332523598323388, kernel=linear, total=   0.1s\n",
      "[CV] C=21.344953672647435, gamma=0.023332523598323388, kernel=linear .\n",
      "[CV]  C=21.344953672647435, gamma=0.023332523598323388, kernel=linear, total=   0.1s\n",
      "[CV] C=5603.270317432516, gamma=0.15023452872733867, kernel=rbf ......\n",
      "[CV]  C=5603.270317432516, gamma=0.15023452872733867, kernel=rbf, total=   0.3s\n",
      "[CV] C=5603.270317432516, gamma=0.15023452872733867, kernel=rbf ......\n",
      "[CV]  C=5603.270317432516, gamma=0.15023452872733867, kernel=rbf, total=   0.3s\n",
      "[CV] C=5603.270317432516, gamma=0.15023452872733867, kernel=rbf ......\n",
      "[CV]  C=5603.270317432516, gamma=0.15023452872733867, kernel=rbf, total=   0.4s\n",
      "[CV] C=5603.270317432516, gamma=0.15023452872733867, kernel=rbf ......\n",
      "[CV]  C=5603.270317432516, gamma=0.15023452872733867, kernel=rbf, total=   0.3s\n",
      "[CV] C=5603.270317432516, gamma=0.15023452872733867, kernel=rbf ......\n",
      "[CV]  C=5603.270317432516, gamma=0.15023452872733867, kernel=rbf, total=   0.3s\n",
      "[CV] C=157055.10989448498, gamma=0.26497040005002437, kernel=rbf .....\n",
      "[CV]  C=157055.10989448498, gamma=0.26497040005002437, kernel=rbf, total=   8.3s\n",
      "[CV] C=157055.10989448498, gamma=0.26497040005002437, kernel=rbf .....\n",
      "[CV]  C=157055.10989448498, gamma=0.26497040005002437, kernel=rbf, total=  10.8s\n",
      "[CV] C=157055.10989448498, gamma=0.26497040005002437, kernel=rbf .....\n",
      "[CV]  C=157055.10989448498, gamma=0.26497040005002437, kernel=rbf, total=   7.2s\n",
      "[CV] C=157055.10989448498, gamma=0.26497040005002437, kernel=rbf .....\n",
      "[CV]  C=157055.10989448498, gamma=0.26497040005002437, kernel=rbf, total=   9.7s\n",
      "[CV] C=157055.10989448498, gamma=0.26497040005002437, kernel=rbf .....\n",
      "[CV]  C=157055.10989448498, gamma=0.26497040005002437, kernel=rbf, total=   6.6s\n",
      "[CV] C=27652.464358739708, gamma=0.2227358621286903, kernel=linear ...\n",
      "[CV]  C=27652.464358739708, gamma=0.2227358621286903, kernel=linear, total=   5.2s\n",
      "[CV] C=27652.464358739708, gamma=0.2227358621286903, kernel=linear ...\n",
      "[CV]  C=27652.464358739708, gamma=0.2227358621286903, kernel=linear, total=   4.8s\n",
      "[CV] C=27652.464358739708, gamma=0.2227358621286903, kernel=linear ...\n",
      "[CV]  C=27652.464358739708, gamma=0.2227358621286903, kernel=linear, total=   5.4s\n",
      "[CV] C=27652.464358739708, gamma=0.2227358621286903, kernel=linear ...\n",
      "[CV]  C=27652.464358739708, gamma=0.2227358621286903, kernel=linear, total=   5.0s\n",
      "[CV] C=27652.464358739708, gamma=0.2227358621286903, kernel=linear ...\n",
      "[CV]  C=27652.464358739708, gamma=0.2227358621286903, kernel=linear, total=   5.3s\n",
      "[CV] C=171377.39570378003, gamma=0.628789100540856, kernel=linear ....\n"
     ]
    },
    {
     "name": "stdout",
     "output_type": "stream",
     "text": [
      "[CV]  C=171377.39570378003, gamma=0.628789100540856, kernel=linear, total=  24.1s\n",
      "[CV] C=171377.39570378003, gamma=0.628789100540856, kernel=linear ....\n",
      "[CV]  C=171377.39570378003, gamma=0.628789100540856, kernel=linear, total=  23.4s\n",
      "[CV] C=171377.39570378003, gamma=0.628789100540856, kernel=linear ....\n",
      "[CV]  C=171377.39570378003, gamma=0.628789100540856, kernel=linear, total=  32.4s\n",
      "[CV] C=171377.39570378003, gamma=0.628789100540856, kernel=linear ....\n",
      "[CV]  C=171377.39570378003, gamma=0.628789100540856, kernel=linear, total=  29.5s\n",
      "[CV] C=171377.39570378003, gamma=0.628789100540856, kernel=linear ....\n",
      "[CV]  C=171377.39570378003, gamma=0.628789100540856, kernel=linear, total=  24.9s\n",
      "[CV] C=5385.293820172355, gamma=0.18696125197741642, kernel=linear ...\n",
      "[CV]  C=5385.293820172355, gamma=0.18696125197741642, kernel=linear, total=   1.4s\n",
      "[CV] C=5385.293820172355, gamma=0.18696125197741642, kernel=linear ...\n",
      "[CV]  C=5385.293820172355, gamma=0.18696125197741642, kernel=linear, total=   1.2s\n",
      "[CV] C=5385.293820172355, gamma=0.18696125197741642, kernel=linear ...\n",
      "[CV]  C=5385.293820172355, gamma=0.18696125197741642, kernel=linear, total=   1.3s\n",
      "[CV] C=5385.293820172355, gamma=0.18696125197741642, kernel=linear ...\n",
      "[CV]  C=5385.293820172355, gamma=0.18696125197741642, kernel=linear, total=   1.4s\n",
      "[CV] C=5385.293820172355, gamma=0.18696125197741642, kernel=linear ...\n",
      "[CV]  C=5385.293820172355, gamma=0.18696125197741642, kernel=linear, total=   1.5s\n",
      "[CV] C=22.59903216621323, gamma=2.850796878935603, kernel=rbf ........\n",
      "[CV]  C=22.59903216621323, gamma=2.850796878935603, kernel=rbf, total=   0.1s\n",
      "[CV] C=22.59903216621323, gamma=2.850796878935603, kernel=rbf ........\n",
      "[CV]  C=22.59903216621323, gamma=2.850796878935603, kernel=rbf, total=   0.1s\n",
      "[CV] C=22.59903216621323, gamma=2.850796878935603, kernel=rbf ........\n",
      "[CV]  C=22.59903216621323, gamma=2.850796878935603, kernel=rbf, total=   0.1s\n",
      "[CV] C=22.59903216621323, gamma=2.850796878935603, kernel=rbf ........\n",
      "[CV]  C=22.59903216621323, gamma=2.850796878935603, kernel=rbf, total=   0.1s\n",
      "[CV] C=22.59903216621323, gamma=2.850796878935603, kernel=rbf ........\n",
      "[CV]  C=22.59903216621323, gamma=2.850796878935603, kernel=rbf, total=   0.1s\n",
      "[CV] C=34246.75194632794, gamma=0.3632878599687583, kernel=linear ....\n",
      "[CV]  C=34246.75194632794, gamma=0.3632878599687583, kernel=linear, total=   6.5s\n",
      "[CV] C=34246.75194632794, gamma=0.3632878599687583, kernel=linear ....\n",
      "[CV]  C=34246.75194632794, gamma=0.3632878599687583, kernel=linear, total=   7.1s\n",
      "[CV] C=34246.75194632794, gamma=0.3632878599687583, kernel=linear ....\n",
      "[CV]  C=34246.75194632794, gamma=0.3632878599687583, kernel=linear, total=   7.2s\n",
      "[CV] C=34246.75194632794, gamma=0.3632878599687583, kernel=linear ....\n",
      "[CV]  C=34246.75194632794, gamma=0.3632878599687583, kernel=linear, total=   6.2s\n",
      "[CV] C=34246.75194632794, gamma=0.3632878599687583, kernel=linear ....\n",
      "[CV]  C=34246.75194632794, gamma=0.3632878599687583, kernel=linear, total=   7.1s\n",
      "[CV] C=167.7278956080511, gamma=0.2757870542258224, kernel=rbf .......\n",
      "[CV]  C=167.7278956080511, gamma=0.2757870542258224, kernel=rbf, total=   0.2s\n",
      "[CV] C=167.7278956080511, gamma=0.2757870542258224, kernel=rbf .......\n",
      "[CV]  C=167.7278956080511, gamma=0.2757870542258224, kernel=rbf, total=   0.2s\n",
      "[CV] C=167.7278956080511, gamma=0.2757870542258224, kernel=rbf .......\n",
      "[CV]  C=167.7278956080511, gamma=0.2757870542258224, kernel=rbf, total=   0.2s\n",
      "[CV] C=167.7278956080511, gamma=0.2757870542258224, kernel=rbf .......\n",
      "[CV]  C=167.7278956080511, gamma=0.2757870542258224, kernel=rbf, total=   0.2s\n",
      "[CV] C=167.7278956080511, gamma=0.2757870542258224, kernel=rbf .......\n",
      "[CV]  C=167.7278956080511, gamma=0.2757870542258224, kernel=rbf, total=   0.2s\n",
      "[CV] C=61.54360542501371, gamma=0.6835472281341501, kernel=linear ....\n",
      "[CV]  C=61.54360542501371, gamma=0.6835472281341501, kernel=linear, total=   0.2s\n",
      "[CV] C=61.54360542501371, gamma=0.6835472281341501, kernel=linear ....\n",
      "[CV]  C=61.54360542501371, gamma=0.6835472281341501, kernel=linear, total=   0.2s\n",
      "[CV] C=61.54360542501371, gamma=0.6835472281341501, kernel=linear ....\n",
      "[CV]  C=61.54360542501371, gamma=0.6835472281341501, kernel=linear, total=   0.1s\n",
      "[CV] C=61.54360542501371, gamma=0.6835472281341501, kernel=linear ....\n",
      "[CV]  C=61.54360542501371, gamma=0.6835472281341501, kernel=linear, total=   0.1s\n",
      "[CV] C=61.54360542501371, gamma=0.6835472281341501, kernel=linear ....\n",
      "[CV]  C=61.54360542501371, gamma=0.6835472281341501, kernel=linear, total=   0.1s\n",
      "[CV] C=98.73897389920914, gamma=0.4960365360493639, kernel=rbf .......\n",
      "[CV]  C=98.73897389920914, gamma=0.4960365360493639, kernel=rbf, total=   0.2s\n",
      "[CV] C=98.73897389920914, gamma=0.4960365360493639, kernel=rbf .......\n",
      "[CV]  C=98.73897389920914, gamma=0.4960365360493639, kernel=rbf, total=   0.2s\n",
      "[CV] C=98.73897389920914, gamma=0.4960365360493639, kernel=rbf .......\n",
      "[CV]  C=98.73897389920914, gamma=0.4960365360493639, kernel=rbf, total=   0.2s\n",
      "[CV] C=98.73897389920914, gamma=0.4960365360493639, kernel=rbf .......\n",
      "[CV]  C=98.73897389920914, gamma=0.4960365360493639, kernel=rbf, total=   0.2s\n",
      "[CV] C=98.73897389920914, gamma=0.4960365360493639, kernel=rbf .......\n",
      "[CV]  C=98.73897389920914, gamma=0.4960365360493639, kernel=rbf, total=   0.2s\n",
      "[CV] C=8935.505635947808, gamma=0.37354658165762367, kernel=rbf ......\n",
      "[CV]  C=8935.505635947808, gamma=0.37354658165762367, kernel=rbf, total=   0.8s\n",
      "[CV] C=8935.505635947808, gamma=0.37354658165762367, kernel=rbf ......\n",
      "[CV]  C=8935.505635947808, gamma=0.37354658165762367, kernel=rbf, total=   0.7s\n",
      "[CV] C=8935.505635947808, gamma=0.37354658165762367, kernel=rbf ......\n",
      "[CV]  C=8935.505635947808, gamma=0.37354658165762367, kernel=rbf, total=   0.8s\n",
      "[CV] C=8935.505635947808, gamma=0.37354658165762367, kernel=rbf ......\n",
      "[CV]  C=8935.505635947808, gamma=0.37354658165762367, kernel=rbf, total=   0.6s\n",
      "[CV] C=8935.505635947808, gamma=0.37354658165762367, kernel=rbf ......\n",
      "[CV]  C=8935.505635947808, gamma=0.37354658165762367, kernel=rbf, total=   0.6s\n",
      "[CV] C=135.76775824842434, gamma=0.838636245624803, kernel=linear ....\n",
      "[CV]  C=135.76775824842434, gamma=0.838636245624803, kernel=linear, total=   0.2s\n",
      "[CV] C=135.76775824842434, gamma=0.838636245624803, kernel=linear ....\n",
      "[CV]  C=135.76775824842434, gamma=0.838636245624803, kernel=linear, total=   0.2s\n",
      "[CV] C=135.76775824842434, gamma=0.838636245624803, kernel=linear ....\n",
      "[CV]  C=135.76775824842434, gamma=0.838636245624803, kernel=linear, total=   0.2s\n",
      "[CV] C=135.76775824842434, gamma=0.838636245624803, kernel=linear ....\n",
      "[CV]  C=135.76775824842434, gamma=0.838636245624803, kernel=linear, total=   0.2s\n",
      "[CV] C=135.76775824842434, gamma=0.838636245624803, kernel=linear ....\n",
      "[CV]  C=135.76775824842434, gamma=0.838636245624803, kernel=linear, total=   0.2s\n",
      "[CV] C=151136.20282548846, gamma=1.4922453771381408, kernel=rbf ......\n",
      "[CV]  C=151136.20282548846, gamma=1.4922453771381408, kernel=rbf, total= 1.2min\n",
      "[CV] C=151136.20282548846, gamma=1.4922453771381408, kernel=rbf ......\n",
      "[CV]  C=151136.20282548846, gamma=1.4922453771381408, kernel=rbf, total= 1.0min\n",
      "[CV] C=151136.20282548846, gamma=1.4922453771381408, kernel=rbf ......\n",
      "[CV]  C=151136.20282548846, gamma=1.4922453771381408, kernel=rbf, total=  44.2s\n",
      "[CV] C=151136.20282548846, gamma=1.4922453771381408, kernel=rbf ......\n",
      "[CV]  C=151136.20282548846, gamma=1.4922453771381408, kernel=rbf, total=  44.6s\n",
      "[CV] C=151136.20282548846, gamma=1.4922453771381408, kernel=rbf ......\n",
      "[CV]  C=151136.20282548846, gamma=1.4922453771381408, kernel=rbf, total=  51.0s\n",
      "[CV] C=761.4316758498783, gamma=2.6126336514161914, kernel=linear ....\n",
      "[CV]  C=761.4316758498783, gamma=2.6126336514161914, kernel=linear, total=   0.4s\n",
      "[CV] C=761.4316758498783, gamma=2.6126336514161914, kernel=linear ....\n",
      "[CV]  C=761.4316758498783, gamma=2.6126336514161914, kernel=linear, total=   0.4s\n",
      "[CV] C=761.4316758498783, gamma=2.6126336514161914, kernel=linear ....\n",
      "[CV]  C=761.4316758498783, gamma=2.6126336514161914, kernel=linear, total=   0.3s\n",
      "[CV] C=761.4316758498783, gamma=2.6126336514161914, kernel=linear ....\n",
      "[CV]  C=761.4316758498783, gamma=2.6126336514161914, kernel=linear, total=   0.4s\n",
      "[CV] C=761.4316758498783, gamma=2.6126336514161914, kernel=linear ....\n"
     ]
    },
    {
     "name": "stdout",
     "output_type": "stream",
     "text": [
      "[CV]  C=761.4316758498783, gamma=2.6126336514161914, kernel=linear, total=   0.4s\n",
      "[CV] C=97392.81883041795, gamma=0.09265545895311562, kernel=linear ...\n",
      "[CV]  C=97392.81883041795, gamma=0.09265545895311562, kernel=linear, total=  13.4s\n",
      "[CV] C=97392.81883041795, gamma=0.09265545895311562, kernel=linear ...\n",
      "[CV]  C=97392.81883041795, gamma=0.09265545895311562, kernel=linear, total=  14.8s\n",
      "[CV] C=97392.81883041795, gamma=0.09265545895311562, kernel=linear ...\n",
      "[CV]  C=97392.81883041795, gamma=0.09265545895311562, kernel=linear, total=  14.3s\n",
      "[CV] C=97392.81883041795, gamma=0.09265545895311562, kernel=linear ...\n",
      "[CV]  C=97392.81883041795, gamma=0.09265545895311562, kernel=linear, total=  15.6s\n",
      "[CV] C=97392.81883041795, gamma=0.09265545895311562, kernel=linear ...\n",
      "[CV]  C=97392.81883041795, gamma=0.09265545895311562, kernel=linear, total=  14.6s\n",
      "[CV] C=2423.0759984939164, gamma=3.248614270240346, kernel=linear ....\n",
      "[CV]  C=2423.0759984939164, gamma=3.248614270240346, kernel=linear, total=   0.7s\n",
      "[CV] C=2423.0759984939164, gamma=3.248614270240346, kernel=linear ....\n",
      "[CV]  C=2423.0759984939164, gamma=3.248614270240346, kernel=linear, total=   0.8s\n",
      "[CV] C=2423.0759984939164, gamma=3.248614270240346, kernel=linear ....\n",
      "[CV]  C=2423.0759984939164, gamma=3.248614270240346, kernel=linear, total=   0.8s\n",
      "[CV] C=2423.0759984939164, gamma=3.248614270240346, kernel=linear ....\n",
      "[CV]  C=2423.0759984939164, gamma=3.248614270240346, kernel=linear, total=   0.9s\n",
      "[CV] C=2423.0759984939164, gamma=3.248614270240346, kernel=linear ....\n",
      "[CV]  C=2423.0759984939164, gamma=3.248614270240346, kernel=linear, total=   0.8s\n",
      "[CV] C=717.3632997255095, gamma=0.3165604432088257, kernel=linear ....\n",
      "[CV]  C=717.3632997255095, gamma=0.3165604432088257, kernel=linear, total=   0.3s\n",
      "[CV] C=717.3632997255095, gamma=0.3165604432088257, kernel=linear ....\n",
      "[CV]  C=717.3632997255095, gamma=0.3165604432088257, kernel=linear, total=   0.3s\n",
      "[CV] C=717.3632997255095, gamma=0.3165604432088257, kernel=linear ....\n",
      "[CV]  C=717.3632997255095, gamma=0.3165604432088257, kernel=linear, total=   0.4s\n",
      "[CV] C=717.3632997255095, gamma=0.3165604432088257, kernel=linear ....\n",
      "[CV]  C=717.3632997255095, gamma=0.3165604432088257, kernel=linear, total=   0.3s\n",
      "[CV] C=717.3632997255095, gamma=0.3165604432088257, kernel=linear ....\n",
      "[CV]  C=717.3632997255095, gamma=0.3165604432088257, kernel=linear, total=   0.4s\n",
      "[CV] C=4446.667521184072, gamma=3.3597284456608496, kernel=rbf .......\n",
      "[CV]  C=4446.667521184072, gamma=3.3597284456608496, kernel=rbf, total=   1.9s\n",
      "[CV] C=4446.667521184072, gamma=3.3597284456608496, kernel=rbf .......\n",
      "[CV]  C=4446.667521184072, gamma=3.3597284456608496, kernel=rbf, total=   2.3s\n",
      "[CV] C=4446.667521184072, gamma=3.3597284456608496, kernel=rbf .......\n",
      "[CV]  C=4446.667521184072, gamma=3.3597284456608496, kernel=rbf, total=   2.4s\n",
      "[CV] C=4446.667521184072, gamma=3.3597284456608496, kernel=rbf .......\n",
      "[CV]  C=4446.667521184072, gamma=3.3597284456608496, kernel=rbf, total=   2.2s\n",
      "[CV] C=4446.667521184072, gamma=3.3597284456608496, kernel=rbf .......\n",
      "[CV]  C=4446.667521184072, gamma=3.3597284456608496, kernel=rbf, total=   2.5s\n",
      "[CV] C=2963.564121207815, gamma=0.15189814782062885, kernel=linear ...\n",
      "[CV]  C=2963.564121207815, gamma=0.15189814782062885, kernel=linear, total=   0.7s\n",
      "[CV] C=2963.564121207815, gamma=0.15189814782062885, kernel=linear ...\n",
      "[CV]  C=2963.564121207815, gamma=0.15189814782062885, kernel=linear, total=   0.8s\n",
      "[CV] C=2963.564121207815, gamma=0.15189814782062885, kernel=linear ...\n",
      "[CV]  C=2963.564121207815, gamma=0.15189814782062885, kernel=linear, total=   0.9s\n",
      "[CV] C=2963.564121207815, gamma=0.15189814782062885, kernel=linear ...\n",
      "[CV]  C=2963.564121207815, gamma=0.15189814782062885, kernel=linear, total=   0.9s\n",
      "[CV] C=2963.564121207815, gamma=0.15189814782062885, kernel=linear ...\n",
      "[CV]  C=2963.564121207815, gamma=0.15189814782062885, kernel=linear, total=   1.0s\n",
      "[CV] C=91.64267381686706, gamma=0.01575994483585621, kernel=linear ...\n",
      "[CV]  C=91.64267381686706, gamma=0.01575994483585621, kernel=linear, total=   0.1s\n",
      "[CV] C=91.64267381686706, gamma=0.01575994483585621, kernel=linear ...\n",
      "[CV]  C=91.64267381686706, gamma=0.01575994483585621, kernel=linear, total=   0.2s\n",
      "[CV] C=91.64267381686706, gamma=0.01575994483585621, kernel=linear ...\n",
      "[CV]  C=91.64267381686706, gamma=0.01575994483585621, kernel=linear, total=   0.2s\n",
      "[CV] C=91.64267381686706, gamma=0.01575994483585621, kernel=linear ...\n",
      "[CV]  C=91.64267381686706, gamma=0.01575994483585621, kernel=linear, total=   0.1s\n",
      "[CV] C=91.64267381686706, gamma=0.01575994483585621, kernel=linear ...\n",
      "[CV]  C=91.64267381686706, gamma=0.01575994483585621, kernel=linear, total=   0.2s\n",
      "[CV] C=24547.601975705915, gamma=0.22153944050588595, kernel=rbf .....\n",
      "[CV]  C=24547.601975705915, gamma=0.22153944050588595, kernel=rbf, total=   1.2s\n",
      "[CV] C=24547.601975705915, gamma=0.22153944050588595, kernel=rbf .....\n",
      "[CV]  C=24547.601975705915, gamma=0.22153944050588595, kernel=rbf, total=   1.1s\n",
      "[CV] C=24547.601975705915, gamma=0.22153944050588595, kernel=rbf .....\n",
      "[CV]  C=24547.601975705915, gamma=0.22153944050588595, kernel=rbf, total=   1.2s\n",
      "[CV] C=24547.601975705915, gamma=0.22153944050588595, kernel=rbf .....\n",
      "[CV]  C=24547.601975705915, gamma=0.22153944050588595, kernel=rbf, total=   1.0s\n",
      "[CV] C=24547.601975705915, gamma=0.22153944050588595, kernel=rbf .....\n",
      "[CV]  C=24547.601975705915, gamma=0.22153944050588595, kernel=rbf, total=   1.2s\n",
      "[CV] C=22.76927941060928, gamma=0.22169760231351215, kernel=rbf ......\n",
      "[CV]  C=22.76927941060928, gamma=0.22169760231351215, kernel=rbf, total=   0.1s\n",
      "[CV] C=22.76927941060928, gamma=0.22169760231351215, kernel=rbf ......\n",
      "[CV]  C=22.76927941060928, gamma=0.22169760231351215, kernel=rbf, total=   0.1s\n",
      "[CV] C=22.76927941060928, gamma=0.22169760231351215, kernel=rbf ......\n",
      "[CV]  C=22.76927941060928, gamma=0.22169760231351215, kernel=rbf, total=   0.1s\n",
      "[CV] C=22.76927941060928, gamma=0.22169760231351215, kernel=rbf ......\n",
      "[CV]  C=22.76927941060928, gamma=0.22169760231351215, kernel=rbf, total=   0.1s\n",
      "[CV] C=22.76927941060928, gamma=0.22169760231351215, kernel=rbf ......\n",
      "[CV]  C=22.76927941060928, gamma=0.22169760231351215, kernel=rbf, total=   0.1s\n",
      "[CV] C=16483.850529752886, gamma=1.4752145260435134, kernel=linear ...\n",
      "[CV]  C=16483.850529752886, gamma=1.4752145260435134, kernel=linear, total=   3.1s\n",
      "[CV] C=16483.850529752886, gamma=1.4752145260435134, kernel=linear ...\n",
      "[CV]  C=16483.850529752886, gamma=1.4752145260435134, kernel=linear, total=   3.1s\n",
      "[CV] C=16483.850529752886, gamma=1.4752145260435134, kernel=linear ...\n",
      "[CV]  C=16483.850529752886, gamma=1.4752145260435134, kernel=linear, total=   3.2s\n",
      "[CV] C=16483.850529752886, gamma=1.4752145260435134, kernel=linear ...\n",
      "[CV]  C=16483.850529752886, gamma=1.4752145260435134, kernel=linear, total=   3.2s\n",
      "[CV] C=16483.850529752886, gamma=1.4752145260435134, kernel=linear ...\n",
      "[CV]  C=16483.850529752886, gamma=1.4752145260435134, kernel=linear, total=   3.2s\n",
      "[CV] C=101445.66881340064, gamma=1.052904084582266, kernel=rbf .......\n",
      "[CV]  C=101445.66881340064, gamma=1.052904084582266, kernel=rbf, total=  22.1s\n",
      "[CV] C=101445.66881340064, gamma=1.052904084582266, kernel=rbf .......\n",
      "[CV]  C=101445.66881340064, gamma=1.052904084582266, kernel=rbf, total=  21.4s\n",
      "[CV] C=101445.66881340064, gamma=1.052904084582266, kernel=rbf .......\n",
      "[CV]  C=101445.66881340064, gamma=1.052904084582266, kernel=rbf, total=  24.8s\n",
      "[CV] C=101445.66881340064, gamma=1.052904084582266, kernel=rbf .......\n",
      "[CV]  C=101445.66881340064, gamma=1.052904084582266, kernel=rbf, total=  21.7s\n",
      "[CV] C=101445.66881340064, gamma=1.052904084582266, kernel=rbf .......\n",
      "[CV]  C=101445.66881340064, gamma=1.052904084582266, kernel=rbf, total=  18.5s\n",
      "[CV] C=56681.80859029545, gamma=0.9763011917123741, kernel=rbf .......\n",
      "[CV]  C=56681.80859029545, gamma=0.9763011917123741, kernel=rbf, total=   9.2s\n",
      "[CV] C=56681.80859029545, gamma=0.9763011917123741, kernel=rbf .......\n",
      "[CV]  C=56681.80859029545, gamma=0.9763011917123741, kernel=rbf, total=  10.5s\n",
      "[CV] C=56681.80859029545, gamma=0.9763011917123741, kernel=rbf .......\n",
      "[CV]  C=56681.80859029545, gamma=0.9763011917123741, kernel=rbf, total=   8.5s\n",
      "[CV] C=56681.80859029545, gamma=0.9763011917123741, kernel=rbf .......\n"
     ]
    },
    {
     "name": "stdout",
     "output_type": "stream",
     "text": [
      "[CV]  C=56681.80859029545, gamma=0.9763011917123741, kernel=rbf, total=   7.8s\n",
      "[CV] C=56681.80859029545, gamma=0.9763011917123741, kernel=rbf .......\n",
      "[CV]  C=56681.80859029545, gamma=0.9763011917123741, kernel=rbf, total=  10.0s\n",
      "[CV] C=48.15822390928914, gamma=0.4633351167983427, kernel=rbf .......\n",
      "[CV]  C=48.15822390928914, gamma=0.4633351167983427, kernel=rbf, total=   0.1s\n",
      "[CV] C=48.15822390928914, gamma=0.4633351167983427, kernel=rbf .......\n",
      "[CV]  C=48.15822390928914, gamma=0.4633351167983427, kernel=rbf, total=   0.1s\n",
      "[CV] C=48.15822390928914, gamma=0.4633351167983427, kernel=rbf .......\n",
      "[CV]  C=48.15822390928914, gamma=0.4633351167983427, kernel=rbf, total=   0.1s\n",
      "[CV] C=48.15822390928914, gamma=0.4633351167983427, kernel=rbf .......\n",
      "[CV]  C=48.15822390928914, gamma=0.4633351167983427, kernel=rbf, total=   0.1s\n",
      "[CV] C=48.15822390928914, gamma=0.4633351167983427, kernel=rbf .......\n",
      "[CV]  C=48.15822390928914, gamma=0.4633351167983427, kernel=rbf, total=   0.1s\n",
      "[CV] C=399.7268155705774, gamma=1.3078757839577408, kernel=rbf .......\n",
      "[CV]  C=399.7268155705774, gamma=1.3078757839577408, kernel=rbf, total=   0.2s\n",
      "[CV] C=399.7268155705774, gamma=1.3078757839577408, kernel=rbf .......\n",
      "[CV]  C=399.7268155705774, gamma=1.3078757839577408, kernel=rbf, total=   0.2s\n",
      "[CV] C=399.7268155705774, gamma=1.3078757839577408, kernel=rbf .......\n",
      "[CV]  C=399.7268155705774, gamma=1.3078757839577408, kernel=rbf, total=   0.2s\n",
      "[CV] C=399.7268155705774, gamma=1.3078757839577408, kernel=rbf .......\n",
      "[CV]  C=399.7268155705774, gamma=1.3078757839577408, kernel=rbf, total=   0.2s\n",
      "[CV] C=399.7268155705774, gamma=1.3078757839577408, kernel=rbf .......\n",
      "[CV]  C=399.7268155705774, gamma=1.3078757839577408, kernel=rbf, total=   0.2s\n",
      "[CV] C=251.14073886281363, gamma=0.8238105204914145, kernel=linear ...\n",
      "[CV]  C=251.14073886281363, gamma=0.8238105204914145, kernel=linear, total=   0.2s\n",
      "[CV] C=251.14073886281363, gamma=0.8238105204914145, kernel=linear ...\n",
      "[CV]  C=251.14073886281363, gamma=0.8238105204914145, kernel=linear, total=   0.2s\n",
      "[CV] C=251.14073886281363, gamma=0.8238105204914145, kernel=linear ...\n",
      "[CV]  C=251.14073886281363, gamma=0.8238105204914145, kernel=linear, total=   0.2s\n",
      "[CV] C=251.14073886281363, gamma=0.8238105204914145, kernel=linear ...\n",
      "[CV]  C=251.14073886281363, gamma=0.8238105204914145, kernel=linear, total=   0.2s\n",
      "[CV] C=251.14073886281363, gamma=0.8238105204914145, kernel=linear ...\n",
      "[CV]  C=251.14073886281363, gamma=0.8238105204914145, kernel=linear, total=   0.2s\n",
      "[CV] C=60.17373642891687, gamma=1.2491263443165994, kernel=linear ....\n",
      "[CV]  C=60.17373642891687, gamma=1.2491263443165994, kernel=linear, total=   0.1s\n",
      "[CV] C=60.17373642891687, gamma=1.2491263443165994, kernel=linear ....\n",
      "[CV]  C=60.17373642891687, gamma=1.2491263443165994, kernel=linear, total=   0.1s\n",
      "[CV] C=60.17373642891687, gamma=1.2491263443165994, kernel=linear ....\n",
      "[CV]  C=60.17373642891687, gamma=1.2491263443165994, kernel=linear, total=   0.1s\n",
      "[CV] C=60.17373642891687, gamma=1.2491263443165994, kernel=linear ....\n",
      "[CV]  C=60.17373642891687, gamma=1.2491263443165994, kernel=linear, total=   0.1s\n",
      "[CV] C=60.17373642891687, gamma=1.2491263443165994, kernel=linear ....\n",
      "[CV]  C=60.17373642891687, gamma=1.2491263443165994, kernel=linear, total=   0.1s\n",
      "[CV] C=15415.161544891856, gamma=0.2691677514619319, kernel=rbf ......\n",
      "[CV]  C=15415.161544891856, gamma=0.2691677514619319, kernel=rbf, total=   0.8s\n",
      "[CV] C=15415.161544891856, gamma=0.2691677514619319, kernel=rbf ......\n",
      "[CV]  C=15415.161544891856, gamma=0.2691677514619319, kernel=rbf, total=   0.8s\n",
      "[CV] C=15415.161544891856, gamma=0.2691677514619319, kernel=rbf ......\n",
      "[CV]  C=15415.161544891856, gamma=0.2691677514619319, kernel=rbf, total=   0.8s\n",
      "[CV] C=15415.161544891856, gamma=0.2691677514619319, kernel=rbf ......\n",
      "[CV]  C=15415.161544891856, gamma=0.2691677514619319, kernel=rbf, total=   1.0s\n",
      "[CV] C=15415.161544891856, gamma=0.2691677514619319, kernel=rbf ......\n",
      "[CV]  C=15415.161544891856, gamma=0.2691677514619319, kernel=rbf, total=   1.2s\n",
      "[CV] C=1888.9148509967113, gamma=0.739678838777267, kernel=linear ....\n",
      "[CV]  C=1888.9148509967113, gamma=0.739678838777267, kernel=linear, total=   0.6s\n",
      "[CV] C=1888.9148509967113, gamma=0.739678838777267, kernel=linear ....\n",
      "[CV]  C=1888.9148509967113, gamma=0.739678838777267, kernel=linear, total=   0.6s\n",
      "[CV] C=1888.9148509967113, gamma=0.739678838777267, kernel=linear ....\n",
      "[CV]  C=1888.9148509967113, gamma=0.739678838777267, kernel=linear, total=   0.7s\n",
      "[CV] C=1888.9148509967113, gamma=0.739678838777267, kernel=linear ....\n",
      "[CV]  C=1888.9148509967113, gamma=0.739678838777267, kernel=linear, total=   0.6s\n",
      "[CV] C=1888.9148509967113, gamma=0.739678838777267, kernel=linear ....\n",
      "[CV]  C=1888.9148509967113, gamma=0.739678838777267, kernel=linear, total=   0.6s\n",
      "[CV] C=55.53838911232773, gamma=0.578634378499143, kernel=linear .....\n",
      "[CV]  C=55.53838911232773, gamma=0.578634378499143, kernel=linear, total=   0.1s\n",
      "[CV] C=55.53838911232773, gamma=0.578634378499143, kernel=linear .....\n",
      "[CV]  C=55.53838911232773, gamma=0.578634378499143, kernel=linear, total=   0.1s\n",
      "[CV] C=55.53838911232773, gamma=0.578634378499143, kernel=linear .....\n",
      "[CV]  C=55.53838911232773, gamma=0.578634378499143, kernel=linear, total=   0.1s\n",
      "[CV] C=55.53838911232773, gamma=0.578634378499143, kernel=linear .....\n",
      "[CV]  C=55.53838911232773, gamma=0.578634378499143, kernel=linear, total=   0.1s\n",
      "[CV] C=55.53838911232773, gamma=0.578634378499143, kernel=linear .....\n",
      "[CV]  C=55.53838911232773, gamma=0.578634378499143, kernel=linear, total=   0.1s\n",
      "[CV] C=26.714480823948186, gamma=1.0117295509275495, kernel=rbf ......\n",
      "[CV]  C=26.714480823948186, gamma=1.0117295509275495, kernel=rbf, total=   0.1s\n",
      "[CV] C=26.714480823948186, gamma=1.0117295509275495, kernel=rbf ......\n",
      "[CV]  C=26.714480823948186, gamma=1.0117295509275495, kernel=rbf, total=   0.1s\n",
      "[CV] C=26.714480823948186, gamma=1.0117295509275495, kernel=rbf ......\n",
      "[CV]  C=26.714480823948186, gamma=1.0117295509275495, kernel=rbf, total=   0.1s\n",
      "[CV] C=26.714480823948186, gamma=1.0117295509275495, kernel=rbf ......\n",
      "[CV]  C=26.714480823948186, gamma=1.0117295509275495, kernel=rbf, total=   0.1s\n",
      "[CV] C=26.714480823948186, gamma=1.0117295509275495, kernel=rbf ......\n",
      "[CV]  C=26.714480823948186, gamma=1.0117295509275495, kernel=rbf, total=   0.1s\n",
      "[CV] C=3582.0552780489566, gamma=1.1891370222133257, kernel=linear ...\n",
      "[CV]  C=3582.0552780489566, gamma=1.1891370222133257, kernel=linear, total=   1.0s\n",
      "[CV] C=3582.0552780489566, gamma=1.1891370222133257, kernel=linear ...\n",
      "[CV]  C=3582.0552780489566, gamma=1.1891370222133257, kernel=linear, total=   1.0s\n",
      "[CV] C=3582.0552780489566, gamma=1.1891370222133257, kernel=linear ...\n",
      "[CV]  C=3582.0552780489566, gamma=1.1891370222133257, kernel=linear, total=   1.0s\n",
      "[CV] C=3582.0552780489566, gamma=1.1891370222133257, kernel=linear ...\n",
      "[CV]  C=3582.0552780489566, gamma=1.1891370222133257, kernel=linear, total=   1.0s\n",
      "[CV] C=3582.0552780489566, gamma=1.1891370222133257, kernel=linear ...\n",
      "[CV]  C=3582.0552780489566, gamma=1.1891370222133257, kernel=linear, total=   1.1s\n",
      "[CV] C=198.7004781812736, gamma=0.5282819748826726, kernel=linear ....\n",
      "[CV]  C=198.7004781812736, gamma=0.5282819748826726, kernel=linear, total=   0.2s\n",
      "[CV] C=198.7004781812736, gamma=0.5282819748826726, kernel=linear ....\n",
      "[CV]  C=198.7004781812736, gamma=0.5282819748826726, kernel=linear, total=   0.2s\n",
      "[CV] C=198.7004781812736, gamma=0.5282819748826726, kernel=linear ....\n",
      "[CV]  C=198.7004781812736, gamma=0.5282819748826726, kernel=linear, total=   0.2s\n",
      "[CV] C=198.7004781812736, gamma=0.5282819748826726, kernel=linear ....\n",
      "[CV]  C=198.7004781812736, gamma=0.5282819748826726, kernel=linear, total=   0.2s\n",
      "[CV] C=198.7004781812736, gamma=0.5282819748826726, kernel=linear ....\n",
      "[CV]  C=198.7004781812736, gamma=0.5282819748826726, kernel=linear, total=   0.2s\n",
      "[CV] C=129.8000604143307, gamma=2.8621383676481322, kernel=linear ....\n",
      "[CV]  C=129.8000604143307, gamma=2.8621383676481322, kernel=linear, total=   0.2s\n",
      "[CV] C=129.8000604143307, gamma=2.8621383676481322, kernel=linear ....\n",
      "[CV]  C=129.8000604143307, gamma=2.8621383676481322, kernel=linear, total=   0.2s\n",
      "[CV] C=129.8000604143307, gamma=2.8621383676481322, kernel=linear ....\n"
     ]
    },
    {
     "name": "stdout",
     "output_type": "stream",
     "text": [
      "[CV]  C=129.8000604143307, gamma=2.8621383676481322, kernel=linear, total=   0.2s\n",
      "[CV] C=129.8000604143307, gamma=2.8621383676481322, kernel=linear ....\n",
      "[CV]  C=129.8000604143307, gamma=2.8621383676481322, kernel=linear, total=   0.2s\n",
      "[CV] C=129.8000604143307, gamma=2.8621383676481322, kernel=linear ....\n",
      "[CV]  C=129.8000604143307, gamma=2.8621383676481322, kernel=linear, total=   0.2s\n",
      "[CV] C=288.4269299593897, gamma=0.17580835850006285, kernel=rbf ......\n",
      "[CV]  C=288.4269299593897, gamma=0.17580835850006285, kernel=rbf, total=   0.2s\n",
      "[CV] C=288.4269299593897, gamma=0.17580835850006285, kernel=rbf ......\n",
      "[CV]  C=288.4269299593897, gamma=0.17580835850006285, kernel=rbf, total=   0.2s\n",
      "[CV] C=288.4269299593897, gamma=0.17580835850006285, kernel=rbf ......\n",
      "[CV]  C=288.4269299593897, gamma=0.17580835850006285, kernel=rbf, total=   0.2s\n",
      "[CV] C=288.4269299593897, gamma=0.17580835850006285, kernel=rbf ......\n",
      "[CV]  C=288.4269299593897, gamma=0.17580835850006285, kernel=rbf, total=   0.2s\n",
      "[CV] C=288.4269299593897, gamma=0.17580835850006285, kernel=rbf ......\n",
      "[CV]  C=288.4269299593897, gamma=0.17580835850006285, kernel=rbf, total=   0.2s\n",
      "[CV] C=6287.039489427171, gamma=0.3504567255332862, kernel=linear ....\n",
      "[CV]  C=6287.039489427171, gamma=0.3504567255332862, kernel=linear, total=   1.3s\n",
      "[CV] C=6287.039489427171, gamma=0.3504567255332862, kernel=linear ....\n",
      "[CV]  C=6287.039489427171, gamma=0.3504567255332862, kernel=linear, total=   1.4s\n",
      "[CV] C=6287.039489427171, gamma=0.3504567255332862, kernel=linear ....\n",
      "[CV]  C=6287.039489427171, gamma=0.3504567255332862, kernel=linear, total=   1.4s\n",
      "[CV] C=6287.039489427171, gamma=0.3504567255332862, kernel=linear ....\n",
      "[CV]  C=6287.039489427171, gamma=0.3504567255332862, kernel=linear, total=   1.5s\n",
      "[CV] C=6287.039489427171, gamma=0.3504567255332862, kernel=linear ....\n",
      "[CV]  C=6287.039489427171, gamma=0.3504567255332862, kernel=linear, total=   1.5s\n",
      "[CV] C=61217.04421344494, gamma=1.6279689407405564, kernel=rbf .......\n",
      "[CV]  C=61217.04421344494, gamma=1.6279689407405564, kernel=rbf, total=  20.9s\n",
      "[CV] C=61217.04421344494, gamma=1.6279689407405564, kernel=rbf .......\n",
      "[CV]  C=61217.04421344494, gamma=1.6279689407405564, kernel=rbf, total=  21.6s\n",
      "[CV] C=61217.04421344494, gamma=1.6279689407405564, kernel=rbf .......\n",
      "[CV]  C=61217.04421344494, gamma=1.6279689407405564, kernel=rbf, total=  17.0s\n",
      "[CV] C=61217.04421344494, gamma=1.6279689407405564, kernel=rbf .......\n",
      "[CV]  C=61217.04421344494, gamma=1.6279689407405564, kernel=rbf, total=  18.0s\n",
      "[CV] C=61217.04421344494, gamma=1.6279689407405564, kernel=rbf .......\n",
      "[CV]  C=61217.04421344494, gamma=1.6279689407405564, kernel=rbf, total=  22.5s\n",
      "[CV] C=926.9787684096649, gamma=2.147979593060577, kernel=rbf ........\n",
      "[CV]  C=926.9787684096649, gamma=2.147979593060577, kernel=rbf, total=   0.4s\n",
      "[CV] C=926.9787684096649, gamma=2.147979593060577, kernel=rbf ........\n",
      "[CV]  C=926.9787684096649, gamma=2.147979593060577, kernel=rbf, total=   0.4s\n",
      "[CV] C=926.9787684096649, gamma=2.147979593060577, kernel=rbf ........\n",
      "[CV]  C=926.9787684096649, gamma=2.147979593060577, kernel=rbf, total=   0.4s\n",
      "[CV] C=926.9787684096649, gamma=2.147979593060577, kernel=rbf ........\n",
      "[CV]  C=926.9787684096649, gamma=2.147979593060577, kernel=rbf, total=   0.4s\n",
      "[CV] C=926.9787684096649, gamma=2.147979593060577, kernel=rbf ........\n",
      "[CV]  C=926.9787684096649, gamma=2.147979593060577, kernel=rbf, total=   0.4s\n",
      "[CV] C=33946.157064934, gamma=2.2642426492862313, kernel=linear ......\n",
      "[CV]  C=33946.157064934, gamma=2.2642426492862313, kernel=linear, total=   5.2s\n",
      "[CV] C=33946.157064934, gamma=2.2642426492862313, kernel=linear ......\n",
      "[CV]  C=33946.157064934, gamma=2.2642426492862313, kernel=linear, total=   5.6s\n",
      "[CV] C=33946.157064934, gamma=2.2642426492862313, kernel=linear ......\n",
      "[CV]  C=33946.157064934, gamma=2.2642426492862313, kernel=linear, total=   5.9s\n",
      "[CV] C=33946.157064934, gamma=2.2642426492862313, kernel=linear ......\n",
      "[CV]  C=33946.157064934, gamma=2.2642426492862313, kernel=linear, total=   5.9s\n",
      "[CV] C=33946.157064934, gamma=2.2642426492862313, kernel=linear ......\n",
      "[CV]  C=33946.157064934, gamma=2.2642426492862313, kernel=linear, total=   5.9s\n",
      "[CV] C=84789.82947739525, gamma=0.3176359085304841, kernel=linear ....\n",
      "[CV]  C=84789.82947739525, gamma=0.3176359085304841, kernel=linear, total=  11.6s\n",
      "[CV] C=84789.82947739525, gamma=0.3176359085304841, kernel=linear ....\n",
      "[CV]  C=84789.82947739525, gamma=0.3176359085304841, kernel=linear, total=  12.6s\n",
      "[CV] C=84789.82947739525, gamma=0.3176359085304841, kernel=linear ....\n",
      "[CV]  C=84789.82947739525, gamma=0.3176359085304841, kernel=linear, total=  13.0s\n",
      "[CV] C=84789.82947739525, gamma=0.3176359085304841, kernel=linear ....\n",
      "[CV]  C=84789.82947739525, gamma=0.3176359085304841, kernel=linear, total=  13.4s\n",
      "[CV] C=84789.82947739525, gamma=0.3176359085304841, kernel=linear ....\n",
      "[CV]  C=84789.82947739525, gamma=0.3176359085304841, kernel=linear, total=  17.7s\n"
     ]
    },
    {
     "name": "stderr",
     "output_type": "stream",
     "text": [
      "[Parallel(n_jobs=1)]: Done 250 out of 250 | elapsed: 17.6min finished\n"
     ]
    },
    {
     "data": {
      "text/plain": [
       "RandomizedSearchCV(cv=5, error_score=nan,\n",
       "                   estimator=SVR(C=1.0, cache_size=200, coef0=0.0, degree=3,\n",
       "                                 epsilon=0.1, gamma='scale', kernel='rbf',\n",
       "                                 max_iter=-1, shrinking=True, tol=0.001,\n",
       "                                 verbose=False),\n",
       "                   iid='deprecated', n_iter=50, n_jobs=None,\n",
       "                   param_distributions={'C': <scipy.stats._distn_infrastructure.rv_frozen object at 0x11a03b760>,\n",
       "                                        'gamma': <scipy.stats._distn_infrastructure.rv_frozen object at 0x11a988be0>,\n",
       "                                        'kernel': ['linear', 'rbf']},\n",
       "                   pre_dispatch='2*n_jobs', random_state=42, refit=True,\n",
       "                   return_train_score=False, scoring='neg_mean_squared_error',\n",
       "                   verbose=2)"
      ]
     },
     "execution_count": 88,
     "metadata": {},
     "output_type": "execute_result"
    }
   ],
   "source": [
    "# Try replacing GridSearchCV with RandomizedSearchCV\n",
    "\n",
    "from sklearn.model_selection import RandomizedSearchCV\n",
    "from scipy.stats import expon, reciprocal\n",
    "\n",
    "param_distribs = {\n",
    "    'kernel': ['linear', 'rbf'],\n",
    "    'C': reciprocal(20, 200000),\n",
    "    'gamma': expon(scale=1.0)\n",
    "}\n",
    "\n",
    "svm_reg = SVR()\n",
    "rnd_search = RandomizedSearchCV(svm_reg, param_distributions=param_distribs,\n",
    "                                n_iter=50, cv=5, scoring=\"neg_mean_squared_error\",\n",
    "                                verbose=2, random_state=42)\n",
    "\n",
    "rnd_search.fit(df_train_prepared, df_train_labels)"
   ]
  },
  {
   "cell_type": "code",
   "execution_count": 89,
   "metadata": {},
   "outputs": [
    {
     "data": {
      "text/plain": [
       "42.55252730609708"
      ]
     },
     "execution_count": 89,
     "metadata": {},
     "output_type": "execute_result"
    }
   ],
   "source": [
    "negative_mse = rnd_search.best_score_\n",
    "rmse = np.sqrt(-negative_mse)\n",
    "rmse"
   ]
  },
  {
   "cell_type": "code",
   "execution_count": null,
   "metadata": {},
   "outputs": [],
   "source": []
  }
 ],
 "metadata": {
  "kernelspec": {
   "display_name": "Python 3",
   "language": "python",
   "name": "python3"
  },
  "language_info": {
   "codemirror_mode": {
    "name": "ipython",
    "version": 3
   },
   "file_extension": ".py",
   "mimetype": "text/x-python",
   "name": "python",
   "nbconvert_exporter": "python",
   "pygments_lexer": "ipython3",
   "version": "3.8.2"
  }
 },
 "nbformat": 4,
 "nbformat_minor": 4
}
